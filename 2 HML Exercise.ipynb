{
 "cells": [
  {
   "cell_type": "markdown",
   "id": "56f7669d-2d9e-4e2f-91ba-660f6ebe642b",
   "metadata": {},
   "source": [
    "# Financial Econometrics and Machine Learning"
   ]
  },
  {
   "cell_type": "markdown",
   "id": "13797e83-48af-4d18-88f5-7d10daa20bdd",
   "metadata": {},
   "source": [
    "Urkesh Cusack, Uyc2, Yale University"
   ]
  },
  {
   "cell_type": "code",
   "execution_count": 1,
   "id": "a4146d47-f29f-4849-8b85-abb6143b09b7",
   "metadata": {
    "tags": []
   },
   "outputs": [],
   "source": [
    "import pandas as pd\n",
    "import numpy as np\n",
    "import math\n",
    "import statistics\n",
    "import matplotlib.pyplot as plt\n",
    "from datetime import datetime\n",
    "from scipy import stats\n",
    "import scipy\n",
    "import seaborn as sns\n",
    "from sklearn.linear_model import LinearRegression\n",
    "from statsmodels.graphics.gofplots import qqplot\n",
    "from scipy.stats import norm, uniform, skew, kurtosis\n",
    "from sklearn.metrics import r2_score\n",
    "import statsmodels.api as sm"
   ]
  },
  {
   "cell_type": "markdown",
   "id": "ba0e4b00-cefa-499e-85a1-f8e06165928c",
   "metadata": {
    "tags": []
   },
   "source": [
    "#"
   ]
  },
  {
   "cell_type": "markdown",
   "id": "9383cc2b-b530-4030-a9ed-692349319e6e",
   "metadata": {
    "tags": []
   },
   "source": [
    "FF BEME ratio. where BE is the compustat book value of stockholders equity plus balance-sheet deffered taxes and investment tax credit minus the book value of preferred stock. (E.F. Fama and K.R. French, 1993, Common risk factors in stock and bond returns.) To run this portfolio we will use the following process: \n",
    "<br />\n",
    "<br />\n",
    "<br />\n",
    "- Step 1: import variables from wrds\n",
    "  - gvkey (stock id)\n",
    "  - datadate\n",
    "  - book value of stockholders equity (seq)\n",
    "  - deferred taxes and investment tax credit (txditc)\n",
    "  - book value of prefferred stock (pstk)\n",
    "  - share price at end of quarter (prccq)\n",
    "  - market equity (common shares outstanding * share price) **    \n",
    "<br />\n",
    "<br />\n",
    "<br />\n",
    "\n",
    "- Step 2: Calculate BEME ratio\n",
    "  - (book val. of stockholders equity + deferred taxes and investment tax credit - book value of preferred stock) / market equity \n",
    "  - (seq + txditc - pstk) / market_equity \n",
    "<br />\n",
    "<br />\n",
    "<br />\n",
    "\n",
    "\n",
    "- Step 3: Sort by date, then by BEME ratio \n",
    "  - take whole dataset, group by date, within each date create a BEME ranking\n",
    "<br /> \n",
    "<br />\n",
    "<br />\n",
    "\n",
    "- Step 4: Create BEME portfolio 30/30\n",
    "  - create a long short portfolio for each quarter.\n",
    "  - long the top 30% percentile of stocks as per their beme ratio\n",
    "    - weighted average return of all stocks in top 30% percentile \n",
    "  - short the bottom 30% percentile of stocks as per their beme ratio\n",
    "    - weighted average return of all stocks in bottom 30% percentile \n",
    "  - create a L/S portfolio at each quarter, which return = long_portfolio - short_portfolio\n",
    "<br />\n",
    "<br />\n",
    "<br />\n",
    "\n",
    "- Step 5: Track BEME returns\n",
    "  - compute the cumulative return of the portfolio with quarterly rebalance \n",
    "  - plot returns\n",
    "<br />\n",
    "<br />\n",
    "<br />\n",
    "<br />\n",
    "<br />\n",
    "\n",
    "\n",
    "<span style=\"font-size: smaller;\">_One challenge in computing market equity is accounting for stock splits and share dilutions. These events change the number of outstanding shares, affecting calculations of market capitalization and stock returns. While Compustat provides share price data, it does not offer quarterly stock returns, necessitating manual computation. I Attempted mapping between CRSP's \"permno\" and Compustat's \"gvkey\" identifiers but it didn't work properly, leading to mismatches. Therefore, calculating returns by comparing end-of-period Compustat prices is the best solution I can provide at this point. Despite the potential issues with stock splits and dilutions, their impact may be mitigated in large datasets where such events are relatively infrequent. Additionally, a diversified portfolio with numerous stocks can help to buffer the effect of any single company's structural changes on the aggregate market equity computation_</span>\n",
    "\n"
   ]
  },
  {
   "cell_type": "markdown",
   "id": "0f2299bf-5d01-4b3b-983b-1a176f00157c",
   "metadata": {
    "tags": []
   },
   "source": [
    "#"
   ]
  },
  {
   "cell_type": "markdown",
   "id": "215489cc-581f-4dad-89a3-0ac7ef191748",
   "metadata": {
    "tags": []
   },
   "source": [
    "# Question 1: reate the Fama-French version of the book-to-market equity ratio. "
   ]
  },
  {
   "cell_type": "markdown",
   "id": "b5dad03f-8767-4d04-aaaf-048cfffe0e0f",
   "metadata": {
    "tags": []
   },
   "source": [
    "# Download and import accounting data (earnings and market equity) from WRDS to create the BEME metric "
   ]
  },
  {
   "cell_type": "markdown",
   "id": "04559dd1-9e64-4ef5-8373-f3fba2cd0dd6",
   "metadata": {
    "tags": []
   },
   "source": [
    "Data imports"
   ]
  },
  {
   "cell_type": "code",
   "execution_count": 3,
   "id": "5127c73b-a7b5-48f0-8eff-e0499c2bda18",
   "metadata": {
    "collapsed": true,
    "jupyter": {
     "outputs_hidden": true
    },
    "tags": []
   },
   "outputs": [
    {
     "name": "stdout",
     "output_type": "stream",
     "text": [
      "Requirement already satisfied: wrds in c:\\users\\urkes\\anaconda3\\lib\\site-packages (3.1.6)\n",
      "Requirement already satisfied: numpy in c:\\users\\urkes\\anaconda3\\lib\\site-packages (from wrds) (1.22.4)\n",
      "Requirement already satisfied: pandas in c:\\users\\urkes\\anaconda3\\lib\\site-packages (from wrds) (2.0.3)\n",
      "Requirement already satisfied: psycopg2-binary in c:\\users\\urkes\\anaconda3\\lib\\site-packages (from wrds) (2.9.9)\n",
      "Requirement already satisfied: scipy in c:\\users\\urkes\\anaconda3\\lib\\site-packages (from wrds) (1.7.3)\n",
      "Requirement already satisfied: sqlalchemy<2 in c:\\users\\urkes\\anaconda3\\lib\\site-packages (from wrds) (1.4.51)\n",
      "Requirement already satisfied: greenlet!=0.4.17 in c:\\users\\urkes\\anaconda3\\lib\\site-packages (from sqlalchemy<2->wrds) (2.0.1)\n",
      "Requirement already satisfied: python-dateutil>=2.8.2 in c:\\users\\urkes\\anaconda3\\lib\\site-packages (from pandas->wrds) (2.8.2)\n",
      "Requirement already satisfied: pytz>=2020.1 in c:\\users\\urkes\\anaconda3\\lib\\site-packages (from pandas->wrds) (2023.3.post1)\n",
      "Requirement already satisfied: tzdata>=2022.1 in c:\\users\\urkes\\anaconda3\\lib\\site-packages (from pandas->wrds) (2023.3)\n",
      "Requirement already satisfied: six>=1.5 in c:\\users\\urkes\\anaconda3\\lib\\site-packages (from python-dateutil>=2.8.2->pandas->wrds) (1.16.0)\n",
      "Note: you may need to restart the kernel to use updated packages.\n"
     ]
    }
   ],
   "source": [
    "pip install wrds"
   ]
  },
  {
   "cell_type": "code",
   "execution_count": 11,
   "id": "d6f916ee-5f8a-45aa-ba6b-758c5393b873",
   "metadata": {
    "tags": []
   },
   "outputs": [
    {
     "name": "stdout",
     "output_type": "stream",
     "text": [
      "Loading library list...\n",
      "Done\n"
     ]
    },
    {
     "name": "stdin",
     "output_type": "stream",
     "text": [
      "Enter your WRDS username [urkesh]: urkesh\n",
      "Enter your password: ········\n"
     ]
    }
   ],
   "source": [
    "import wrds\n",
    "db = wrds.Connection(wrds_username=\"urkesh\")\n",
    "db.create_pgpass_file()"
   ]
  },
  {
   "cell_type": "markdown",
   "id": "4b6cae21-3fd4-4be5-ad20-fad66b43936e",
   "metadata": {
    "tags": []
   },
   "source": [
    "#"
   ]
  },
  {
   "cell_type": "markdown",
   "id": "587846fb-1a11-407c-be08-ca41cf642d54",
   "metadata": {
    "tags": []
   },
   "source": [
    "# Step 1: Import variables from wrds"
   ]
  },
  {
   "cell_type": "code",
   "execution_count": 47,
   "id": "f39fa520-3126-48f8-9e4b-c1f758290692",
   "metadata": {
    "tags": []
   },
   "outputs": [
    {
     "name": "stdin",
     "output_type": "stream",
     "text": [
      "Enter your WRDS username [urkes]: urkesh\n",
      "Enter your password: ········\n"
     ]
    },
    {
     "name": "stdout",
     "output_type": "stream",
     "text": [
      "WRDS recommends setting up a .pgpass file.\n"
     ]
    },
    {
     "name": "stdin",
     "output_type": "stream",
     "text": [
      "Create .pgpass file now [y/n]?:  y\n"
     ]
    },
    {
     "name": "stdout",
     "output_type": "stream",
     "text": [
      "Created .pgpass file successfully.\n",
      "You can create this file yourself at any time with the create_pgpass_file() function.\n",
      "Loading library list...\n",
      "Done\n",
      "    stock        date  book_equity  deferred_taxes  book_value_preferred  \\\n",
      "0  002024  1962-03-31          NaN             NaN                   NaN   \n",
      "1  003066  1962-03-31      849.684             NaN                   0.0   \n",
      "2  002943  1962-03-31      758.153             NaN                   0.0   \n",
      "3  007562  1962-03-31      580.904             NaN                   NaN   \n",
      "4  002968  1962-03-31      445.286             NaN                   NaN   \n",
      "\n",
      "   share_price  shares_outstanding  \n",
      "0    55.631974              28.480  \n",
      "1   102.211098              12.734  \n",
      "2    80.499985              13.968  \n",
      "3   139.749837               7.540  \n",
      "4    91.749933               8.477  \n"
     ]
    }
   ],
   "source": [
    "db = wrds.Connection()\n",
    "\n",
    "try:\n",
    "    # SQL query to retrieve the required data\n",
    "    query = \"\"\"\n",
    "    WITH RankedData AS (\n",
    "        SELECT \n",
    "            gvkey AS stock,\n",
    "            datadate AS date,\n",
    "            ceqq AS book_equity,\n",
    "            txditcq AS deferred_taxes,\n",
    "            pstkq AS book_value_preferred,  -- Assuming pstkq represents book value preferred\n",
    "            prccq AS share_price,\n",
    "            cshoq AS shares_outstanding,\n",
    "            cshoq * prccq AS market_cap,\n",
    "            RANK() OVER (PARTITION BY DATE_TRUNC('quarter', datadate) ORDER BY cshoq * prccq DESC) AS mc_rank\n",
    "        FROM \n",
    "            comp.fundq\n",
    "        WHERE \n",
    "            datadate BETWEEN '1954-01-01' AND '2022-12-31'\n",
    "            AND cshoq IS NOT NULL \n",
    "            AND prccq IS NOT NULL\n",
    "    )\n",
    "    SELECT\n",
    "        stock,\n",
    "        date,\n",
    "        book_equity,\n",
    "        deferred_taxes,\n",
    "        book_value_preferred,\n",
    "        share_price,\n",
    "        shares_outstanding\n",
    "    FROM \n",
    "        RankedData\n",
    "    WHERE\n",
    "        mc_rank <= 3000;\n",
    "    \"\"\"\n",
    "\n",
    "    data = db.raw_sql(query)\n",
    "\n",
    "    print(data.head())\n",
    "\n",
    "except Exception as e:\n",
    "    print(f\"An error occurred: {e}\")\n",
    "\n",
    "finally:\n",
    "    db.close()\n"
   ]
  },
  {
   "cell_type": "code",
   "execution_count": 48,
   "id": "314489f2-0ac4-465c-98f1-c8d397af344a",
   "metadata": {
    "tags": []
   },
   "outputs": [],
   "source": [
    "data.to_csv(\"data_create_beme\")"
   ]
  },
  {
   "cell_type": "code",
   "execution_count": 49,
   "id": "13c39deb-3d35-4875-9b70-a11cdfd7e298",
   "metadata": {
    "tags": []
   },
   "outputs": [],
   "source": [
    "data = pd.read_csv(\"data_create_beme\")"
   ]
  },
  {
   "cell_type": "markdown",
   "id": "618929e6-394d-4dea-afcb-ca8c4d9262bd",
   "metadata": {
    "tags": []
   },
   "source": [
    "#"
   ]
  },
  {
   "cell_type": "markdown",
   "id": "0262d30a-2f95-42ba-8c82-1b0754cf6310",
   "metadata": {
    "tags": []
   },
   "source": [
    "# Step 2: Calculate BEME Ratio"
   ]
  },
  {
   "cell_type": "markdown",
   "id": "ae203c4a-ed6a-4b6f-ba05-4f51eea39f13",
   "metadata": {},
   "source": [
    "\n",
    "(book val. of stockholders equity + deferred taxes and investment tax credit - book value of preferred stock) / market equity\n",
    "\n",
    "(seq + txditc - pstk) / market_equity"
   ]
  },
  {
   "cell_type": "code",
   "execution_count": 50,
   "id": "c4750991-986e-47c5-82fa-d85018ce62aa",
   "metadata": {
    "collapsed": true,
    "jupyter": {
     "outputs_hidden": true
    },
    "tags": []
   },
   "outputs": [
    {
     "data": {
      "text/html": [
       "<div>\n",
       "<style scoped>\n",
       "    .dataframe tbody tr th:only-of-type {\n",
       "        vertical-align: middle;\n",
       "    }\n",
       "\n",
       "    .dataframe tbody tr th {\n",
       "        vertical-align: top;\n",
       "    }\n",
       "\n",
       "    .dataframe thead th {\n",
       "        text-align: right;\n",
       "    }\n",
       "</style>\n",
       "<table border=\"1\" class=\"dataframe\">\n",
       "  <thead>\n",
       "    <tr style=\"text-align: right;\">\n",
       "      <th></th>\n",
       "      <th>Unnamed: 0</th>\n",
       "      <th>stock</th>\n",
       "      <th>date</th>\n",
       "      <th>book_equity</th>\n",
       "      <th>deferred_taxes</th>\n",
       "      <th>book_value_preferred</th>\n",
       "      <th>share_price</th>\n",
       "      <th>shares_outstanding</th>\n",
       "      <th>real_book_eq</th>\n",
       "      <th>market_cap</th>\n",
       "    </tr>\n",
       "  </thead>\n",
       "  <tbody>\n",
       "    <tr>\n",
       "      <th>1</th>\n",
       "      <td>1</td>\n",
       "      <td>3066</td>\n",
       "      <td>1962-03-31</td>\n",
       "      <td>849.684</td>\n",
       "      <td>NaN</td>\n",
       "      <td>0.0</td>\n",
       "      <td>102.211098</td>\n",
       "      <td>12.734</td>\n",
       "      <td>849.684</td>\n",
       "      <td>1301.556117</td>\n",
       "    </tr>\n",
       "    <tr>\n",
       "      <th>2</th>\n",
       "      <td>2</td>\n",
       "      <td>2943</td>\n",
       "      <td>1962-03-31</td>\n",
       "      <td>758.153</td>\n",
       "      <td>NaN</td>\n",
       "      <td>0.0</td>\n",
       "      <td>80.499985</td>\n",
       "      <td>13.968</td>\n",
       "      <td>758.153</td>\n",
       "      <td>1124.423787</td>\n",
       "    </tr>\n",
       "    <tr>\n",
       "      <th>3</th>\n",
       "      <td>3</td>\n",
       "      <td>7562</td>\n",
       "      <td>1962-03-31</td>\n",
       "      <td>580.904</td>\n",
       "      <td>NaN</td>\n",
       "      <td>NaN</td>\n",
       "      <td>139.749837</td>\n",
       "      <td>7.540</td>\n",
       "      <td>580.904</td>\n",
       "      <td>1053.713768</td>\n",
       "    </tr>\n",
       "    <tr>\n",
       "      <th>4</th>\n",
       "      <td>4</td>\n",
       "      <td>2968</td>\n",
       "      <td>1962-03-31</td>\n",
       "      <td>445.286</td>\n",
       "      <td>NaN</td>\n",
       "      <td>NaN</td>\n",
       "      <td>91.749933</td>\n",
       "      <td>8.477</td>\n",
       "      <td>445.286</td>\n",
       "      <td>777.764184</td>\n",
       "    </tr>\n",
       "    <tr>\n",
       "      <th>5</th>\n",
       "      <td>5</td>\n",
       "      <td>7003</td>\n",
       "      <td>1962-03-31</td>\n",
       "      <td>461.912</td>\n",
       "      <td>NaN</td>\n",
       "      <td>0.0</td>\n",
       "      <td>56.499823</td>\n",
       "      <td>11.719</td>\n",
       "      <td>461.912</td>\n",
       "      <td>662.121423</td>\n",
       "    </tr>\n",
       "    <tr>\n",
       "      <th>...</th>\n",
       "      <td>...</td>\n",
       "      <td>...</td>\n",
       "      <td>...</td>\n",
       "      <td>...</td>\n",
       "      <td>...</td>\n",
       "      <td>...</td>\n",
       "      <td>...</td>\n",
       "      <td>...</td>\n",
       "      <td>...</td>\n",
       "      <td>...</td>\n",
       "    </tr>\n",
       "    <tr>\n",
       "      <th>621368</th>\n",
       "      <td>121368</td>\n",
       "      <td>31368</td>\n",
       "      <td>2022-12-31</td>\n",
       "      <td>637.515</td>\n",
       "      <td>NaN</td>\n",
       "      <td>0.0</td>\n",
       "      <td>24.750000</td>\n",
       "      <td>30.486</td>\n",
       "      <td>637.515</td>\n",
       "      <td>754.528500</td>\n",
       "    </tr>\n",
       "    <tr>\n",
       "      <th>621369</th>\n",
       "      <td>121369</td>\n",
       "      <td>12379</td>\n",
       "      <td>2022-10-31</td>\n",
       "      <td>829.179</td>\n",
       "      <td>34.454</td>\n",
       "      <td>0.0</td>\n",
       "      <td>45.350000</td>\n",
       "      <td>16.622</td>\n",
       "      <td>863.633</td>\n",
       "      <td>753.807700</td>\n",
       "    </tr>\n",
       "    <tr>\n",
       "      <th>621370</th>\n",
       "      <td>121370</td>\n",
       "      <td>15212</td>\n",
       "      <td>2022-12-31</td>\n",
       "      <td>52.977</td>\n",
       "      <td>10.588</td>\n",
       "      <td>0.0</td>\n",
       "      <td>19.830000</td>\n",
       "      <td>37.938</td>\n",
       "      <td>63.565</td>\n",
       "      <td>752.310540</td>\n",
       "    </tr>\n",
       "    <tr>\n",
       "      <th>621371</th>\n",
       "      <td>121371</td>\n",
       "      <td>39215</td>\n",
       "      <td>2022-12-31</td>\n",
       "      <td>165.890</td>\n",
       "      <td>3.508</td>\n",
       "      <td>0.0</td>\n",
       "      <td>20.140000</td>\n",
       "      <td>37.332</td>\n",
       "      <td>169.398</td>\n",
       "      <td>751.866480</td>\n",
       "    </tr>\n",
       "    <tr>\n",
       "      <th>621372</th>\n",
       "      <td>121372</td>\n",
       "      <td>10000</td>\n",
       "      <td>2022-12-31</td>\n",
       "      <td>610.020</td>\n",
       "      <td>0.000</td>\n",
       "      <td>0.0</td>\n",
       "      <td>34.800000</td>\n",
       "      <td>21.586</td>\n",
       "      <td>610.020</td>\n",
       "      <td>751.192800</td>\n",
       "    </tr>\n",
       "  </tbody>\n",
       "</table>\n",
       "<p>578493 rows × 10 columns</p>\n",
       "</div>"
      ],
      "text/plain": [
       "        Unnamed: 0  stock        date  book_equity  deferred_taxes  \\\n",
       "1                1   3066  1962-03-31      849.684             NaN   \n",
       "2                2   2943  1962-03-31      758.153             NaN   \n",
       "3                3   7562  1962-03-31      580.904             NaN   \n",
       "4                4   2968  1962-03-31      445.286             NaN   \n",
       "5                5   7003  1962-03-31      461.912             NaN   \n",
       "...            ...    ...         ...          ...             ...   \n",
       "621368      121368  31368  2022-12-31      637.515             NaN   \n",
       "621369      121369  12379  2022-10-31      829.179          34.454   \n",
       "621370      121370  15212  2022-12-31       52.977          10.588   \n",
       "621371      121371  39215  2022-12-31      165.890           3.508   \n",
       "621372      121372  10000  2022-12-31      610.020           0.000   \n",
       "\n",
       "        book_value_preferred  share_price  shares_outstanding  real_book_eq  \\\n",
       "1                        0.0   102.211098              12.734       849.684   \n",
       "2                        0.0    80.499985              13.968       758.153   \n",
       "3                        NaN   139.749837               7.540       580.904   \n",
       "4                        NaN    91.749933               8.477       445.286   \n",
       "5                        0.0    56.499823              11.719       461.912   \n",
       "...                      ...          ...                 ...           ...   \n",
       "621368                   0.0    24.750000              30.486       637.515   \n",
       "621369                   0.0    45.350000              16.622       863.633   \n",
       "621370                   0.0    19.830000              37.938        63.565   \n",
       "621371                   0.0    20.140000              37.332       169.398   \n",
       "621372                   0.0    34.800000              21.586       610.020   \n",
       "\n",
       "         market_cap  \n",
       "1       1301.556117  \n",
       "2       1124.423787  \n",
       "3       1053.713768  \n",
       "4        777.764184  \n",
       "5        662.121423  \n",
       "...             ...  \n",
       "621368   754.528500  \n",
       "621369   753.807700  \n",
       "621370   752.310540  \n",
       "621371   751.866480  \n",
       "621372   751.192800  \n",
       "\n",
       "[578493 rows x 10 columns]"
      ]
     },
     "execution_count": 50,
     "metadata": {},
     "output_type": "execute_result"
    }
   ],
   "source": [
    "#book equity (millions)\n",
    "#deffered taxes (millions)\n",
    "#book value preffered (millions)\n",
    "#share price (dollar ammount) \n",
    "#shares outstanding (millions)\n",
    "#market_cap (millions)\n",
    "data = data.dropna(subset=['book_equity'])\n",
    "data['real_book_eq'] = data['book_equity'].add(data['deferred_taxes'], fill_value=0)\\\n",
    "                                          .sub(data['book_value_preferred'], fill_value=0)\n",
    "\n",
    "data['market_cap'] = data['share_price'] * data['shares_outstanding']\n",
    "data"
   ]
  },
  {
   "cell_type": "code",
   "execution_count": 53,
   "id": "5bc2778b-b976-465f-ae86-bba076003f5d",
   "metadata": {
    "collapsed": true,
    "jupyter": {
     "outputs_hidden": true
    },
    "tags": []
   },
   "outputs": [
    {
     "data": {
      "text/html": [
       "<div>\n",
       "<style scoped>\n",
       "    .dataframe tbody tr th:only-of-type {\n",
       "        vertical-align: middle;\n",
       "    }\n",
       "\n",
       "    .dataframe tbody tr th {\n",
       "        vertical-align: top;\n",
       "    }\n",
       "\n",
       "    .dataframe thead th {\n",
       "        text-align: right;\n",
       "    }\n",
       "</style>\n",
       "<table border=\"1\" class=\"dataframe\">\n",
       "  <thead>\n",
       "    <tr style=\"text-align: right;\">\n",
       "      <th></th>\n",
       "      <th>Unnamed: 0</th>\n",
       "      <th>stock</th>\n",
       "      <th>date</th>\n",
       "      <th>book_equity</th>\n",
       "      <th>deferred_taxes</th>\n",
       "      <th>book_value_preferred</th>\n",
       "      <th>share_price</th>\n",
       "      <th>shares_outstanding</th>\n",
       "      <th>real_book_eq</th>\n",
       "      <th>market_cap</th>\n",
       "      <th>beme</th>\n",
       "    </tr>\n",
       "  </thead>\n",
       "  <tbody>\n",
       "    <tr>\n",
       "      <th>1</th>\n",
       "      <td>1</td>\n",
       "      <td>3066</td>\n",
       "      <td>1962-03-31</td>\n",
       "      <td>849.684</td>\n",
       "      <td>NaN</td>\n",
       "      <td>0.0</td>\n",
       "      <td>102.211098</td>\n",
       "      <td>12.734</td>\n",
       "      <td>849.684</td>\n",
       "      <td>1301.556117</td>\n",
       "      <td>0.652822</td>\n",
       "    </tr>\n",
       "    <tr>\n",
       "      <th>2</th>\n",
       "      <td>2</td>\n",
       "      <td>2943</td>\n",
       "      <td>1962-03-31</td>\n",
       "      <td>758.153</td>\n",
       "      <td>NaN</td>\n",
       "      <td>0.0</td>\n",
       "      <td>80.499985</td>\n",
       "      <td>13.968</td>\n",
       "      <td>758.153</td>\n",
       "      <td>1124.423787</td>\n",
       "      <td>0.674259</td>\n",
       "    </tr>\n",
       "    <tr>\n",
       "      <th>3</th>\n",
       "      <td>3</td>\n",
       "      <td>7562</td>\n",
       "      <td>1962-03-31</td>\n",
       "      <td>580.904</td>\n",
       "      <td>NaN</td>\n",
       "      <td>NaN</td>\n",
       "      <td>139.749837</td>\n",
       "      <td>7.540</td>\n",
       "      <td>580.904</td>\n",
       "      <td>1053.713768</td>\n",
       "      <td>0.551292</td>\n",
       "    </tr>\n",
       "    <tr>\n",
       "      <th>4</th>\n",
       "      <td>4</td>\n",
       "      <td>2968</td>\n",
       "      <td>1962-03-31</td>\n",
       "      <td>445.286</td>\n",
       "      <td>NaN</td>\n",
       "      <td>NaN</td>\n",
       "      <td>91.749933</td>\n",
       "      <td>8.477</td>\n",
       "      <td>445.286</td>\n",
       "      <td>777.764184</td>\n",
       "      <td>0.572521</td>\n",
       "    </tr>\n",
       "    <tr>\n",
       "      <th>5</th>\n",
       "      <td>5</td>\n",
       "      <td>7003</td>\n",
       "      <td>1962-03-31</td>\n",
       "      <td>461.912</td>\n",
       "      <td>NaN</td>\n",
       "      <td>0.0</td>\n",
       "      <td>56.499823</td>\n",
       "      <td>11.719</td>\n",
       "      <td>461.912</td>\n",
       "      <td>662.121423</td>\n",
       "      <td>0.697624</td>\n",
       "    </tr>\n",
       "    <tr>\n",
       "      <th>...</th>\n",
       "      <td>...</td>\n",
       "      <td>...</td>\n",
       "      <td>...</td>\n",
       "      <td>...</td>\n",
       "      <td>...</td>\n",
       "      <td>...</td>\n",
       "      <td>...</td>\n",
       "      <td>...</td>\n",
       "      <td>...</td>\n",
       "      <td>...</td>\n",
       "      <td>...</td>\n",
       "    </tr>\n",
       "    <tr>\n",
       "      <th>621368</th>\n",
       "      <td>121368</td>\n",
       "      <td>31368</td>\n",
       "      <td>2022-12-31</td>\n",
       "      <td>637.515</td>\n",
       "      <td>NaN</td>\n",
       "      <td>0.0</td>\n",
       "      <td>24.750000</td>\n",
       "      <td>30.486</td>\n",
       "      <td>637.515</td>\n",
       "      <td>754.528500</td>\n",
       "      <td>0.844918</td>\n",
       "    </tr>\n",
       "    <tr>\n",
       "      <th>621369</th>\n",
       "      <td>121369</td>\n",
       "      <td>12379</td>\n",
       "      <td>2022-10-31</td>\n",
       "      <td>829.179</td>\n",
       "      <td>34.454</td>\n",
       "      <td>0.0</td>\n",
       "      <td>45.350000</td>\n",
       "      <td>16.622</td>\n",
       "      <td>863.633</td>\n",
       "      <td>753.807700</td>\n",
       "      <td>1.145694</td>\n",
       "    </tr>\n",
       "    <tr>\n",
       "      <th>621370</th>\n",
       "      <td>121370</td>\n",
       "      <td>15212</td>\n",
       "      <td>2022-12-31</td>\n",
       "      <td>52.977</td>\n",
       "      <td>10.588</td>\n",
       "      <td>0.0</td>\n",
       "      <td>19.830000</td>\n",
       "      <td>37.938</td>\n",
       "      <td>63.565</td>\n",
       "      <td>752.310540</td>\n",
       "      <td>0.084493</td>\n",
       "    </tr>\n",
       "    <tr>\n",
       "      <th>621371</th>\n",
       "      <td>121371</td>\n",
       "      <td>39215</td>\n",
       "      <td>2022-12-31</td>\n",
       "      <td>165.890</td>\n",
       "      <td>3.508</td>\n",
       "      <td>0.0</td>\n",
       "      <td>20.140000</td>\n",
       "      <td>37.332</td>\n",
       "      <td>169.398</td>\n",
       "      <td>751.866480</td>\n",
       "      <td>0.225303</td>\n",
       "    </tr>\n",
       "    <tr>\n",
       "      <th>621372</th>\n",
       "      <td>121372</td>\n",
       "      <td>10000</td>\n",
       "      <td>2022-12-31</td>\n",
       "      <td>610.020</td>\n",
       "      <td>0.000</td>\n",
       "      <td>0.0</td>\n",
       "      <td>34.800000</td>\n",
       "      <td>21.586</td>\n",
       "      <td>610.020</td>\n",
       "      <td>751.192800</td>\n",
       "      <td>0.812068</td>\n",
       "    </tr>\n",
       "  </tbody>\n",
       "</table>\n",
       "<p>578493 rows × 11 columns</p>\n",
       "</div>"
      ],
      "text/plain": [
       "        Unnamed: 0  stock        date  book_equity  deferred_taxes  \\\n",
       "1                1   3066  1962-03-31      849.684             NaN   \n",
       "2                2   2943  1962-03-31      758.153             NaN   \n",
       "3                3   7562  1962-03-31      580.904             NaN   \n",
       "4                4   2968  1962-03-31      445.286             NaN   \n",
       "5                5   7003  1962-03-31      461.912             NaN   \n",
       "...            ...    ...         ...          ...             ...   \n",
       "621368      121368  31368  2022-12-31      637.515             NaN   \n",
       "621369      121369  12379  2022-10-31      829.179          34.454   \n",
       "621370      121370  15212  2022-12-31       52.977          10.588   \n",
       "621371      121371  39215  2022-12-31      165.890           3.508   \n",
       "621372      121372  10000  2022-12-31      610.020           0.000   \n",
       "\n",
       "        book_value_preferred  share_price  shares_outstanding  real_book_eq  \\\n",
       "1                        0.0   102.211098              12.734       849.684   \n",
       "2                        0.0    80.499985              13.968       758.153   \n",
       "3                        NaN   139.749837               7.540       580.904   \n",
       "4                        NaN    91.749933               8.477       445.286   \n",
       "5                        0.0    56.499823              11.719       461.912   \n",
       "...                      ...          ...                 ...           ...   \n",
       "621368                   0.0    24.750000              30.486       637.515   \n",
       "621369                   0.0    45.350000              16.622       863.633   \n",
       "621370                   0.0    19.830000              37.938        63.565   \n",
       "621371                   0.0    20.140000              37.332       169.398   \n",
       "621372                   0.0    34.800000              21.586       610.020   \n",
       "\n",
       "         market_cap      beme  \n",
       "1       1301.556117  0.652822  \n",
       "2       1124.423787  0.674259  \n",
       "3       1053.713768  0.551292  \n",
       "4        777.764184  0.572521  \n",
       "5        662.121423  0.697624  \n",
       "...             ...       ...  \n",
       "621368   754.528500  0.844918  \n",
       "621369   753.807700  1.145694  \n",
       "621370   752.310540  0.084493  \n",
       "621371   751.866480  0.225303  \n",
       "621372   751.192800  0.812068  \n",
       "\n",
       "[578493 rows x 11 columns]"
      ]
     },
     "execution_count": 53,
     "metadata": {},
     "output_type": "execute_result"
    }
   ],
   "source": [
    "#create beme ratio \n",
    "data['beme'] = data['real_book_eq'] / data['market_cap']\n",
    "data"
   ]
  },
  {
   "cell_type": "code",
   "execution_count": 64,
   "id": "0130acd2-a7d2-4b5f-82ae-c74689f2023f",
   "metadata": {
    "tags": []
   },
   "outputs": [],
   "source": [
    "# let us drop all the beme below -50 and above 50 as it doesn't make much ssense and might be some outlier errors of the data or the compustat database. Also drop market cap where market cap is below 100,000 as it doesn't make much sense aswell. \n",
    "data = data[(data['beme'] >= -50) & (data['beme'] <= 100)]\n",
    "data = data[data['market_cap'] >= 0.1]"
   ]
  },
  {
   "cell_type": "markdown",
   "id": "02857e1e-e873-4545-8630-a620cea30862",
   "metadata": {
    "tags": []
   },
   "source": [
    "#"
   ]
  },
  {
   "cell_type": "markdown",
   "id": "2bf3cb57-664b-4b2c-806f-7d09399e00d0",
   "metadata": {
    "tags": []
   },
   "source": [
    "# Step 3: Sort by date, then by BEME ratio"
   ]
  },
  {
   "cell_type": "code",
   "execution_count": 61,
   "id": "64594607-964a-4898-a603-35f36cef0733",
   "metadata": {
    "collapsed": true,
    "jupyter": {
     "outputs_hidden": true
    },
    "tags": []
   },
   "outputs": [
    {
     "data": {
      "text/html": [
       "<div>\n",
       "<style scoped>\n",
       "    .dataframe tbody tr th:only-of-type {\n",
       "        vertical-align: middle;\n",
       "    }\n",
       "\n",
       "    .dataframe tbody tr th {\n",
       "        vertical-align: top;\n",
       "    }\n",
       "\n",
       "    .dataframe thead th {\n",
       "        text-align: right;\n",
       "    }\n",
       "</style>\n",
       "<table border=\"1\" class=\"dataframe\">\n",
       "  <thead>\n",
       "    <tr style=\"text-align: right;\">\n",
       "      <th></th>\n",
       "      <th>stock</th>\n",
       "      <th>date</th>\n",
       "      <th>book_equity</th>\n",
       "      <th>deferred_taxes</th>\n",
       "      <th>book_value_preferred</th>\n",
       "      <th>share_price</th>\n",
       "      <th>shares_outstanding</th>\n",
       "      <th>real_book_eq</th>\n",
       "      <th>market_cap</th>\n",
       "      <th>beme</th>\n",
       "    </tr>\n",
       "  </thead>\n",
       "  <tbody>\n",
       "    <tr>\n",
       "      <th>27</th>\n",
       "      <td>8245</td>\n",
       "      <td>1962-03-31</td>\n",
       "      <td>98.432</td>\n",
       "      <td>NaN</td>\n",
       "      <td>NaN</td>\n",
       "      <td>39.250000</td>\n",
       "      <td>3.026</td>\n",
       "      <td>98.432</td>\n",
       "      <td>118.770500</td>\n",
       "      <td>0.828758</td>\n",
       "    </tr>\n",
       "    <tr>\n",
       "      <th>30</th>\n",
       "      <td>7005</td>\n",
       "      <td>1962-03-31</td>\n",
       "      <td>62.554</td>\n",
       "      <td>NaN</td>\n",
       "      <td>NaN</td>\n",
       "      <td>53.999799</td>\n",
       "      <td>1.410</td>\n",
       "      <td>62.554</td>\n",
       "      <td>76.139717</td>\n",
       "      <td>0.821569</td>\n",
       "    </tr>\n",
       "    <tr>\n",
       "      <th>28</th>\n",
       "      <td>3231</td>\n",
       "      <td>1962-03-31</td>\n",
       "      <td>92.312</td>\n",
       "      <td>NaN</td>\n",
       "      <td>NaN</td>\n",
       "      <td>59.499765</td>\n",
       "      <td>1.930</td>\n",
       "      <td>92.312</td>\n",
       "      <td>114.834547</td>\n",
       "      <td>0.803870</td>\n",
       "    </tr>\n",
       "    <tr>\n",
       "      <th>17</th>\n",
       "      <td>4682</td>\n",
       "      <td>1962-03-31</td>\n",
       "      <td>178.482</td>\n",
       "      <td>NaN</td>\n",
       "      <td>NaN</td>\n",
       "      <td>64.250000</td>\n",
       "      <td>3.470</td>\n",
       "      <td>178.482</td>\n",
       "      <td>222.947500</td>\n",
       "      <td>0.800556</td>\n",
       "    </tr>\n",
       "    <tr>\n",
       "      <th>32</th>\n",
       "      <td>1999</td>\n",
       "      <td>1962-03-31</td>\n",
       "      <td>56.943</td>\n",
       "      <td>NaN</td>\n",
       "      <td>NaN</td>\n",
       "      <td>48.999939</td>\n",
       "      <td>1.542</td>\n",
       "      <td>56.943</td>\n",
       "      <td>75.557906</td>\n",
       "      <td>0.753634</td>\n",
       "    </tr>\n",
       "    <tr>\n",
       "      <th>...</th>\n",
       "      <td>...</td>\n",
       "      <td>...</td>\n",
       "      <td>...</td>\n",
       "      <td>...</td>\n",
       "      <td>...</td>\n",
       "      <td>...</td>\n",
       "      <td>...</td>\n",
       "      <td>...</td>\n",
       "      <td>...</td>\n",
       "      <td>...</td>\n",
       "    </tr>\n",
       "    <tr>\n",
       "      <th>620659</th>\n",
       "      <td>18036</td>\n",
       "      <td>2022-12-31</td>\n",
       "      <td>-1546.000</td>\n",
       "      <td>173.4</td>\n",
       "      <td>1100.3</td>\n",
       "      <td>7.350000</td>\n",
       "      <td>208.371</td>\n",
       "      <td>-2472.900</td>\n",
       "      <td>1531.526850</td>\n",
       "      <td>-1.614663</td>\n",
       "    </tr>\n",
       "    <tr>\n",
       "      <th>620828</th>\n",
       "      <td>23077</td>\n",
       "      <td>2022-12-31</td>\n",
       "      <td>-2273.577</td>\n",
       "      <td>0.0</td>\n",
       "      <td>0.0</td>\n",
       "      <td>5.530000</td>\n",
       "      <td>235.829</td>\n",
       "      <td>-2273.577</td>\n",
       "      <td>1304.134370</td>\n",
       "      <td>-1.743361</td>\n",
       "    </tr>\n",
       "    <tr>\n",
       "      <th>621056</th>\n",
       "      <td>33433</td>\n",
       "      <td>2022-12-31</td>\n",
       "      <td>-3670.000</td>\n",
       "      <td>0.0</td>\n",
       "      <td>0.0</td>\n",
       "      <td>1.430000</td>\n",
       "      <td>708.163</td>\n",
       "      <td>-3670.000</td>\n",
       "      <td>1012.673090</td>\n",
       "      <td>-3.624072</td>\n",
       "    </tr>\n",
       "    <tr>\n",
       "      <th>620400</th>\n",
       "      <td>4601</td>\n",
       "      <td>2022-12-31</td>\n",
       "      <td>-79689.000</td>\n",
       "      <td>0.0</td>\n",
       "      <td>139966.0</td>\n",
       "      <td>0.353400</td>\n",
       "      <td>5858.088</td>\n",
       "      <td>-219655.000</td>\n",
       "      <td>2070.248299</td>\n",
       "      <td>-106.100800</td>\n",
       "    </tr>\n",
       "    <tr>\n",
       "      <th>620932</th>\n",
       "      <td>15208</td>\n",
       "      <td>2022-12-31</td>\n",
       "      <td>-49739.000</td>\n",
       "      <td>0.0</td>\n",
       "      <td>86757.0</td>\n",
       "      <td>0.353300</td>\n",
       "      <td>3250.060</td>\n",
       "      <td>-136496.000</td>\n",
       "      <td>1148.246198</td>\n",
       "      <td>-118.873461</td>\n",
       "    </tr>\n",
       "  </tbody>\n",
       "</table>\n",
       "<p>578493 rows × 10 columns</p>\n",
       "</div>"
      ],
      "text/plain": [
       "        stock        date  book_equity  deferred_taxes  book_value_preferred  \\\n",
       "27       8245  1962-03-31       98.432             NaN                   NaN   \n",
       "30       7005  1962-03-31       62.554             NaN                   NaN   \n",
       "28       3231  1962-03-31       92.312             NaN                   NaN   \n",
       "17       4682  1962-03-31      178.482             NaN                   NaN   \n",
       "32       1999  1962-03-31       56.943             NaN                   NaN   \n",
       "...       ...         ...          ...             ...                   ...   \n",
       "620659  18036  2022-12-31    -1546.000           173.4                1100.3   \n",
       "620828  23077  2022-12-31    -2273.577             0.0                   0.0   \n",
       "621056  33433  2022-12-31    -3670.000             0.0                   0.0   \n",
       "620400   4601  2022-12-31   -79689.000             0.0              139966.0   \n",
       "620932  15208  2022-12-31   -49739.000             0.0               86757.0   \n",
       "\n",
       "        share_price  shares_outstanding  real_book_eq   market_cap        beme  \n",
       "27        39.250000               3.026        98.432   118.770500    0.828758  \n",
       "30        53.999799               1.410        62.554    76.139717    0.821569  \n",
       "28        59.499765               1.930        92.312   114.834547    0.803870  \n",
       "17        64.250000               3.470       178.482   222.947500    0.800556  \n",
       "32        48.999939               1.542        56.943    75.557906    0.753634  \n",
       "...             ...                 ...           ...          ...         ...  \n",
       "620659     7.350000             208.371     -2472.900  1531.526850   -1.614663  \n",
       "620828     5.530000             235.829     -2273.577  1304.134370   -1.743361  \n",
       "621056     1.430000             708.163     -3670.000  1012.673090   -3.624072  \n",
       "620400     0.353400            5858.088   -219655.000  2070.248299 -106.100800  \n",
       "620932     0.353300            3250.060   -136496.000  1148.246198 -118.873461  \n",
       "\n",
       "[578493 rows x 10 columns]"
      ]
     },
     "execution_count": 61,
     "metadata": {},
     "output_type": "execute_result"
    }
   ],
   "source": [
    "# sort by date, wihtin each date, sort by beme\n",
    "data = data.sort_values(by=['date', 'beme'], ascending=[True, False])\n"
   ]
  },
  {
   "cell_type": "markdown",
   "id": "6913f4c3-3d9e-4071-a331-7041af508cec",
   "metadata": {
    "tags": []
   },
   "source": [
    "#"
   ]
  },
  {
   "cell_type": "markdown",
   "id": "e556c7c6-06cc-48cb-b014-49ac4bd287cb",
   "metadata": {
    "tags": []
   },
   "source": [
    "# Question 2: Create a dataset of monthly return data. "
   ]
  },
  {
   "cell_type": "code",
   "execution_count": 77,
   "id": "aac272ec-9c1e-444d-bbcd-6db7e569a693",
   "metadata": {
    "collapsed": true,
    "jupyter": {
     "outputs_hidden": true
    },
    "tags": []
   },
   "outputs": [
    {
     "data": {
      "text/html": [
       "<div>\n",
       "<style scoped>\n",
       "    .dataframe tbody tr th:only-of-type {\n",
       "        vertical-align: middle;\n",
       "    }\n",
       "\n",
       "    .dataframe tbody tr th {\n",
       "        vertical-align: top;\n",
       "    }\n",
       "\n",
       "    .dataframe thead th {\n",
       "        text-align: right;\n",
       "    }\n",
       "</style>\n",
       "<table border=\"1\" class=\"dataframe\">\n",
       "  <thead>\n",
       "    <tr style=\"text-align: right;\">\n",
       "      <th></th>\n",
       "      <th>stock</th>\n",
       "      <th>date</th>\n",
       "      <th>book_equity</th>\n",
       "      <th>deferred_taxes</th>\n",
       "      <th>book_value_preferred</th>\n",
       "      <th>share_price</th>\n",
       "      <th>shares_outstanding</th>\n",
       "      <th>real_book_eq</th>\n",
       "      <th>market_cap</th>\n",
       "      <th>beme</th>\n",
       "      <th>return</th>\n",
       "    </tr>\n",
       "  </thead>\n",
       "  <tbody>\n",
       "    <tr>\n",
       "      <th>0</th>\n",
       "      <td>1000</td>\n",
       "      <td>1972-06-30</td>\n",
       "      <td>6.646</td>\n",
       "      <td>NaN</td>\n",
       "      <td>0.0</td>\n",
       "      <td>6.000</td>\n",
       "      <td>2.956</td>\n",
       "      <td>6.646</td>\n",
       "      <td>17.73600</td>\n",
       "      <td>0.374718</td>\n",
       "      <td>0.066667</td>\n",
       "    </tr>\n",
       "    <tr>\n",
       "      <th>1</th>\n",
       "      <td>1000</td>\n",
       "      <td>1972-09-30</td>\n",
       "      <td>7.176</td>\n",
       "      <td>NaN</td>\n",
       "      <td>0.0</td>\n",
       "      <td>5.250</td>\n",
       "      <td>2.959</td>\n",
       "      <td>7.176</td>\n",
       "      <td>15.53475</td>\n",
       "      <td>0.461932</td>\n",
       "      <td>-0.125000</td>\n",
       "    </tr>\n",
       "    <tr>\n",
       "      <th>2</th>\n",
       "      <td>1000</td>\n",
       "      <td>1972-12-31</td>\n",
       "      <td>7.021</td>\n",
       "      <td>0.288</td>\n",
       "      <td>0.0</td>\n",
       "      <td>5.125</td>\n",
       "      <td>2.902</td>\n",
       "      <td>7.309</td>\n",
       "      <td>14.87275</td>\n",
       "      <td>0.491436</td>\n",
       "      <td>-0.023810</td>\n",
       "    </tr>\n",
       "    <tr>\n",
       "      <th>3</th>\n",
       "      <td>1000</td>\n",
       "      <td>1973-03-31</td>\n",
       "      <td>7.615</td>\n",
       "      <td>NaN</td>\n",
       "      <td>0.0</td>\n",
       "      <td>4.375</td>\n",
       "      <td>3.050</td>\n",
       "      <td>7.615</td>\n",
       "      <td>13.34375</td>\n",
       "      <td>0.570679</td>\n",
       "      <td>-0.146341</td>\n",
       "    </tr>\n",
       "    <tr>\n",
       "      <th>4</th>\n",
       "      <td>1000</td>\n",
       "      <td>1973-06-30</td>\n",
       "      <td>8.041</td>\n",
       "      <td>NaN</td>\n",
       "      <td>0.0</td>\n",
       "      <td>3.000</td>\n",
       "      <td>3.029</td>\n",
       "      <td>8.041</td>\n",
       "      <td>9.08700</td>\n",
       "      <td>0.884891</td>\n",
       "      <td>-0.314286</td>\n",
       "    </tr>\n",
       "    <tr>\n",
       "      <th>...</th>\n",
       "      <td>...</td>\n",
       "      <td>...</td>\n",
       "      <td>...</td>\n",
       "      <td>...</td>\n",
       "      <td>...</td>\n",
       "      <td>...</td>\n",
       "      <td>...</td>\n",
       "      <td>...</td>\n",
       "      <td>...</td>\n",
       "      <td>...</td>\n",
       "      <td>...</td>\n",
       "    </tr>\n",
       "    <tr>\n",
       "      <th>491786</th>\n",
       "      <td>339965</td>\n",
       "      <td>2021-10-31</td>\n",
       "      <td>5006.682</td>\n",
       "      <td>0.000</td>\n",
       "      <td>0.0</td>\n",
       "      <td>353.840</td>\n",
       "      <td>305.899</td>\n",
       "      <td>5006.682</td>\n",
       "      <td>108239.30216</td>\n",
       "      <td>0.046256</td>\n",
       "      <td>0.331627</td>\n",
       "    </tr>\n",
       "    <tr>\n",
       "      <th>491787</th>\n",
       "      <td>339965</td>\n",
       "      <td>2022-01-31</td>\n",
       "      <td>5049.045</td>\n",
       "      <td>NaN</td>\n",
       "      <td>0.0</td>\n",
       "      <td>275.900</td>\n",
       "      <td>312.377</td>\n",
       "      <td>5049.045</td>\n",
       "      <td>86184.81430</td>\n",
       "      <td>0.058584</td>\n",
       "      <td>-0.220269</td>\n",
       "    </tr>\n",
       "    <tr>\n",
       "      <th>491788</th>\n",
       "      <td>345980</td>\n",
       "      <td>2021-09-30</td>\n",
       "      <td>829.000</td>\n",
       "      <td>NaN</td>\n",
       "      <td>0.0</td>\n",
       "      <td>5.460</td>\n",
       "      <td>635.000</td>\n",
       "      <td>829.000</td>\n",
       "      <td>3467.10000</td>\n",
       "      <td>0.239105</td>\n",
       "      <td>-0.585421</td>\n",
       "    </tr>\n",
       "    <tr>\n",
       "      <th>491789</th>\n",
       "      <td>347007</td>\n",
       "      <td>2021-12-31</td>\n",
       "      <td>-242.173</td>\n",
       "      <td>0.162</td>\n",
       "      <td>0.0</td>\n",
       "      <td>6.080</td>\n",
       "      <td>397.830</td>\n",
       "      <td>-242.011</td>\n",
       "      <td>2418.80640</td>\n",
       "      <td>-0.100054</td>\n",
       "      <td>-0.375770</td>\n",
       "    </tr>\n",
       "    <tr>\n",
       "      <th>491790</th>\n",
       "      <td>347007</td>\n",
       "      <td>2022-03-31</td>\n",
       "      <td>-335.644</td>\n",
       "      <td>0.162</td>\n",
       "      <td>0.0</td>\n",
       "      <td>5.610</td>\n",
       "      <td>397.830</td>\n",
       "      <td>-335.482</td>\n",
       "      <td>2231.82630</td>\n",
       "      <td>-0.150317</td>\n",
       "      <td>-0.077303</td>\n",
       "    </tr>\n",
       "  </tbody>\n",
       "</table>\n",
       "<p>491791 rows × 11 columns</p>\n",
       "</div>"
      ],
      "text/plain": [
       "         stock        date  book_equity  deferred_taxes  book_value_preferred  \\\n",
       "0         1000  1972-06-30        6.646             NaN                   0.0   \n",
       "1         1000  1972-09-30        7.176             NaN                   0.0   \n",
       "2         1000  1972-12-31        7.021           0.288                   0.0   \n",
       "3         1000  1973-03-31        7.615             NaN                   0.0   \n",
       "4         1000  1973-06-30        8.041             NaN                   0.0   \n",
       "...        ...         ...          ...             ...                   ...   \n",
       "491786  339965  2021-10-31     5006.682           0.000                   0.0   \n",
       "491787  339965  2022-01-31     5049.045             NaN                   0.0   \n",
       "491788  345980  2021-09-30      829.000             NaN                   0.0   \n",
       "491789  347007  2021-12-31     -242.173           0.162                   0.0   \n",
       "491790  347007  2022-03-31     -335.644           0.162                   0.0   \n",
       "\n",
       "        share_price  shares_outstanding  real_book_eq    market_cap      beme  \\\n",
       "0             6.000               2.956         6.646      17.73600  0.374718   \n",
       "1             5.250               2.959         7.176      15.53475  0.461932   \n",
       "2             5.125               2.902         7.309      14.87275  0.491436   \n",
       "3             4.375               3.050         7.615      13.34375  0.570679   \n",
       "4             3.000               3.029         8.041       9.08700  0.884891   \n",
       "...             ...                 ...           ...           ...       ...   \n",
       "491786      353.840             305.899      5006.682  108239.30216  0.046256   \n",
       "491787      275.900             312.377      5049.045   86184.81430  0.058584   \n",
       "491788        5.460             635.000       829.000    3467.10000  0.239105   \n",
       "491789        6.080             397.830      -242.011    2418.80640 -0.100054   \n",
       "491790        5.610             397.830      -335.482    2231.82630 -0.150317   \n",
       "\n",
       "          return  \n",
       "0       0.066667  \n",
       "1      -0.125000  \n",
       "2      -0.023810  \n",
       "3      -0.146341  \n",
       "4      -0.314286  \n",
       "...          ...  \n",
       "491786  0.331627  \n",
       "491787 -0.220269  \n",
       "491788 -0.585421  \n",
       "491789 -0.375770  \n",
       "491790 -0.077303  \n",
       "\n",
       "[491791 rows x 11 columns]"
      ]
     },
     "execution_count": 77,
     "metadata": {},
     "output_type": "execute_result"
    }
   ],
   "source": [
    "data = data.sort_values(by=['stock', 'date'], ascending=[True, True])\n",
    "data['return'] = data.groupby('stock')['share_price'].pct_change()\n",
    "data = data.groupby('stock').apply(lambda group: group.iloc[1:-1]).reset_index(drop=True)"
   ]
  },
  {
   "cell_type": "code",
   "execution_count": 159,
   "id": "9d8a4176-5f5a-4304-8c85-54c68c90d2ae",
   "metadata": {
    "tags": []
   },
   "outputs": [
    {
     "name": "stdout",
     "output_type": "stream",
     "text": [
      "count    491791.000000\n",
      "mean          0.033979\n",
      "std           0.392515\n",
      "min          -0.999181\n",
      "25%          -0.092031\n",
      "50%           0.017211\n",
      "75%           0.130512\n",
      "max          52.027778\n",
      "Name: return, dtype: float64\n"
     ]
    }
   ],
   "source": [
    "summary_statistics = data['return'].describe()\n",
    "print(summary_statistics)"
   ]
  },
  {
   "cell_type": "markdown",
   "id": "a0211972-842d-476b-b1ff-4b4cce30ebbe",
   "metadata": {
    "tags": []
   },
   "source": [
    "#"
   ]
  },
  {
   "cell_type": "markdown",
   "id": "9df98b5f-dc39-4ab4-87f1-85f6fd68ef8a",
   "metadata": {
    "tags": []
   },
   "source": [
    "# Question 3: Create a monthly return series of the HML factor and plot cumulative return"
   ]
  },
  {
   "cell_type": "markdown",
   "id": "86303048-558b-4d26-9f2e-fdfe47262ec2",
   "metadata": {
    "tags": []
   },
   "source": [
    "# Step 4: Create Long Short Portfolio"
   ]
  },
  {
   "cell_type": "code",
   "execution_count": 121,
   "id": "7fb8779f-2842-41bb-a644-322c20415721",
   "metadata": {
    "tags": []
   },
   "outputs": [],
   "source": [
    "#create the portfolio. long bottom 30% at each date, short top 30% at each date. \n",
    "def calc_diff_in_avg_returns(group):    \n",
    "    sorted_group = group.sort_values(by='beme')\n",
    "    #Determine the top and bottom 30% threshold\n",
    "    top_bottom_threshold = int(len(sorted_group) * 0.3)\n",
    "    # Calculate the average return for the top and bottom 30%\n",
    "    avg_return_top = sorted_group[-top_bottom_threshold:]['return'].mean()\n",
    "    avg_return_bottom = sorted_group[:top_bottom_threshold]['return'].mean()\n",
    "    \n",
    "    return avg_return_bottom - avg_return_top \n",
    "\n",
    "portfolio_returns = data.groupby('date').apply(calc_diff_in_avg_returns)\n",
    "\n",
    "#data = data.merge(portfolio_returns.rename('portfolio_return'), on='date', how='left')\n"
   ]
  },
  {
   "cell_type": "code",
   "execution_count": 124,
   "id": "c4907198-c73d-4e89-b524-0312f7e892df",
   "metadata": {
    "tags": []
   },
   "outputs": [
    {
     "data": {
      "text/plain": [
       "date\n",
       "1962-12-31    0.033663\n",
       "1963-03-31    0.074228\n",
       "1963-06-30   -0.056733\n",
       "1963-09-30   -0.025828\n",
       "1963-12-31   -0.028673\n",
       "                ...   \n",
       "2021-11-30    0.143569\n",
       "2021-12-31    0.038138\n",
       "2022-01-31   -0.137929\n",
       "2022-02-28   -0.023120\n",
       "2022-03-31   -0.145353\n",
       "Length: 664, dtype: float64"
      ]
     },
     "execution_count": 124,
     "metadata": {},
     "output_type": "execute_result"
    }
   ],
   "source": [
    "portfolio_returns"
   ]
  },
  {
   "cell_type": "code",
   "execution_count": 125,
   "id": "916d5974-0e82-407f-8932-8929dc9d433a",
   "metadata": {
    "tags": []
   },
   "outputs": [
    {
     "name": "stdout",
     "output_type": "stream",
     "text": [
      "0.08376325479978723\n",
      "0.1174264902551282\n"
     ]
    }
   ],
   "source": [
    "#test with first quarter to see if method is correct. \n",
    "test_sample = data[:30].sort_values(by=\"beme\", ascending=False)\n",
    "top_30_count = int(len(test_sample) * 0.3)\n",
    "top_30_sample = test_sample.head(top_30_count)\n",
    "print(top_30_sample['return'].mean())\n",
    "\n",
    "test_sample_lowhigh =data[:30].sort_values(by=\"beme\", ascending=True)\n",
    "\n",
    "bottom_30_count = int(len(test_sample_lowhigh) * 0.3)\n",
    "bottom_30_sample = test_sample_lowhigh.head(bottom_30_count)\n",
    "print(bottom_30_sample['return'].mean())"
   ]
  },
  {
   "cell_type": "code",
   "execution_count": 126,
   "id": "22190400-1063-4b4b-b6fc-9dc6f7812a98",
   "metadata": {
    "tags": []
   },
   "outputs": [
    {
     "data": {
      "text/plain": [
       "0.03366323545534097"
      ]
     },
     "execution_count": 126,
     "metadata": {},
     "output_type": "execute_result"
    }
   ],
   "source": [
    "0.1174264902551282-0.08376325479978723"
   ]
  },
  {
   "cell_type": "markdown",
   "id": "dd077484-356d-4f96-ba55-da48d6f8eb16",
   "metadata": {
    "tags": []
   },
   "source": [
    "#"
   ]
  },
  {
   "cell_type": "markdown",
   "id": "e49e17d3-3cb4-4cd7-bb45-4716417db5cd",
   "metadata": {
    "tags": []
   },
   "source": [
    "# Step 5: Track BEME returns"
   ]
  },
  {
   "cell_type": "code",
   "execution_count": 131,
   "id": "91ba5340-1e39-411d-b1d4-1add44e4388e",
   "metadata": {
    "tags": []
   },
   "outputs": [
    {
     "data": {
      "image/png": "[encoded data removed]",
      "text/plain": [
       "<Figure size 1200x600 with 1 Axes>"
      ]
     },
     "metadata": {},
     "output_type": "display_data"
    }
   ],
   "source": [
    "cumulative_returns = portfolio_returns.cumsum()\n",
    "\n",
    "plt.figure(figsize=(12, 6))\n",
    "cumulative_returns.plot()\n",
    "plt.title('Cumulative Portfolio Returns Since 1962 (US)')\n",
    "plt.xlabel('Date')\n",
    "plt.ylabel('Cumulative Returns (%)')\n",
    "plt.grid(True)\n",
    "plt.show()"
   ]
  },
  {
   "cell_type": "markdown",
   "id": "8658f8e0-a8ff-47ac-9add-871a9a7b417a",
   "metadata": {
    "jp-MarkdownHeadingCollapsed": true,
    "tags": []
   },
   "source": [
    "#"
   ]
  },
  {
   "cell_type": "markdown",
   "id": "647535e0-401e-4036-9ccd-f67f73d97d67",
   "metadata": {
    "tags": []
   },
   "source": [
    "#"
   ]
  },
  {
   "cell_type": "markdown",
   "id": "42ca6ac5-c3e6-4301-b40e-5cf4efac5358",
   "metadata": {
    "tags": []
   },
   "source": [
    "# Question 4: Compare and contrast the HML factors with book-to-market portfolios from Jensen et al. (2021)"
   ]
  },
  {
   "cell_type": "code",
   "execution_count": 165,
   "id": "7b6acf7a-6e69-48af-9353-17ccc1985ffc",
   "metadata": {
    "tags": []
   },
   "outputs": [
    {
     "data": {
      "text/html": [
       "<div>\n",
       "<style scoped>\n",
       "    .dataframe tbody tr th:only-of-type {\n",
       "        vertical-align: middle;\n",
       "    }\n",
       "\n",
       "    .dataframe tbody tr th {\n",
       "        vertical-align: top;\n",
       "    }\n",
       "\n",
       "    .dataframe thead th {\n",
       "        text-align: right;\n",
       "    }\n",
       "</style>\n",
       "<table border=\"1\" class=\"dataframe\">\n",
       "  <thead>\n",
       "    <tr style=\"text-align: right;\">\n",
       "      <th></th>\n",
       "      <th>location</th>\n",
       "      <th>name</th>\n",
       "      <th>freq</th>\n",
       "      <th>weighting</th>\n",
       "      <th>direction</th>\n",
       "      <th>n_stocks</th>\n",
       "      <th>n_stocks_min</th>\n",
       "      <th>date</th>\n",
       "      <th>ret</th>\n",
       "    </tr>\n",
       "  </thead>\n",
       "  <tbody>\n",
       "    <tr>\n",
       "      <th>0</th>\n",
       "      <td>usa</td>\n",
       "      <td>be_me</td>\n",
       "      <td>monthly</td>\n",
       "      <td>vw_cap</td>\n",
       "      <td>1</td>\n",
       "      <td>13</td>\n",
       "      <td>4</td>\n",
       "      <td>1950-11-30</td>\n",
       "      <td>0.050720</td>\n",
       "    </tr>\n",
       "    <tr>\n",
       "      <th>1</th>\n",
       "      <td>usa</td>\n",
       "      <td>be_me</td>\n",
       "      <td>monthly</td>\n",
       "      <td>vw_cap</td>\n",
       "      <td>1</td>\n",
       "      <td>16</td>\n",
       "      <td>6</td>\n",
       "      <td>1950-12-31</td>\n",
       "      <td>0.045273</td>\n",
       "    </tr>\n",
       "    <tr>\n",
       "      <th>2</th>\n",
       "      <td>usa</td>\n",
       "      <td>be_me</td>\n",
       "      <td>monthly</td>\n",
       "      <td>vw_cap</td>\n",
       "      <td>1</td>\n",
       "      <td>21</td>\n",
       "      <td>8</td>\n",
       "      <td>1951-01-31</td>\n",
       "      <td>0.014959</td>\n",
       "    </tr>\n",
       "    <tr>\n",
       "      <th>3</th>\n",
       "      <td>usa</td>\n",
       "      <td>be_me</td>\n",
       "      <td>monthly</td>\n",
       "      <td>vw_cap</td>\n",
       "      <td>1</td>\n",
       "      <td>30</td>\n",
       "      <td>12</td>\n",
       "      <td>1951-02-28</td>\n",
       "      <td>-0.015404</td>\n",
       "    </tr>\n",
       "    <tr>\n",
       "      <th>4</th>\n",
       "      <td>usa</td>\n",
       "      <td>be_me</td>\n",
       "      <td>monthly</td>\n",
       "      <td>vw_cap</td>\n",
       "      <td>1</td>\n",
       "      <td>39</td>\n",
       "      <td>17</td>\n",
       "      <td>1951-03-31</td>\n",
       "      <td>0.018392</td>\n",
       "    </tr>\n",
       "    <tr>\n",
       "      <th>...</th>\n",
       "      <td>...</td>\n",
       "      <td>...</td>\n",
       "      <td>...</td>\n",
       "      <td>...</td>\n",
       "      <td>...</td>\n",
       "      <td>...</td>\n",
       "      <td>...</td>\n",
       "      <td>...</td>\n",
       "      <td>...</td>\n",
       "    </tr>\n",
       "    <tr>\n",
       "      <th>861</th>\n",
       "      <td>usa</td>\n",
       "      <td>be_me</td>\n",
       "      <td>monthly</td>\n",
       "      <td>vw_cap</td>\n",
       "      <td>1</td>\n",
       "      <td>3286</td>\n",
       "      <td>1156</td>\n",
       "      <td>2022-08-31</td>\n",
       "      <td>0.001046</td>\n",
       "    </tr>\n",
       "    <tr>\n",
       "      <th>862</th>\n",
       "      <td>usa</td>\n",
       "      <td>be_me</td>\n",
       "      <td>monthly</td>\n",
       "      <td>vw_cap</td>\n",
       "      <td>1</td>\n",
       "      <td>3248</td>\n",
       "      <td>1159</td>\n",
       "      <td>2022-09-30</td>\n",
       "      <td>-0.014072</td>\n",
       "    </tr>\n",
       "    <tr>\n",
       "      <th>863</th>\n",
       "      <td>usa</td>\n",
       "      <td>be_me</td>\n",
       "      <td>monthly</td>\n",
       "      <td>vw_cap</td>\n",
       "      <td>1</td>\n",
       "      <td>3247</td>\n",
       "      <td>1141</td>\n",
       "      <td>2022-10-31</td>\n",
       "      <td>0.038290</td>\n",
       "    </tr>\n",
       "    <tr>\n",
       "      <th>864</th>\n",
       "      <td>usa</td>\n",
       "      <td>be_me</td>\n",
       "      <td>monthly</td>\n",
       "      <td>vw_cap</td>\n",
       "      <td>1</td>\n",
       "      <td>3267</td>\n",
       "      <td>1118</td>\n",
       "      <td>2022-11-30</td>\n",
       "      <td>0.009311</td>\n",
       "    </tr>\n",
       "    <tr>\n",
       "      <th>865</th>\n",
       "      <td>usa</td>\n",
       "      <td>be_me</td>\n",
       "      <td>monthly</td>\n",
       "      <td>vw_cap</td>\n",
       "      <td>1</td>\n",
       "      <td>3259</td>\n",
       "      <td>1088</td>\n",
       "      <td>2022-12-31</td>\n",
       "      <td>0.000423</td>\n",
       "    </tr>\n",
       "  </tbody>\n",
       "</table>\n",
       "<p>866 rows × 9 columns</p>\n",
       "</div>"
      ],
      "text/plain": [
       "    location   name     freq weighting  direction  n_stocks  n_stocks_min  \\\n",
       "0        usa  be_me  monthly    vw_cap          1        13             4   \n",
       "1        usa  be_me  monthly    vw_cap          1        16             6   \n",
       "2        usa  be_me  monthly    vw_cap          1        21             8   \n",
       "3        usa  be_me  monthly    vw_cap          1        30            12   \n",
       "4        usa  be_me  monthly    vw_cap          1        39            17   \n",
       "..       ...    ...      ...       ...        ...       ...           ...   \n",
       "861      usa  be_me  monthly    vw_cap          1      3286          1156   \n",
       "862      usa  be_me  monthly    vw_cap          1      3248          1159   \n",
       "863      usa  be_me  monthly    vw_cap          1      3247          1141   \n",
       "864      usa  be_me  monthly    vw_cap          1      3267          1118   \n",
       "865      usa  be_me  monthly    vw_cap          1      3259          1088   \n",
       "\n",
       "           date       ret  \n",
       "0    1950-11-30  0.050720  \n",
       "1    1950-12-31  0.045273  \n",
       "2    1951-01-31  0.014959  \n",
       "3    1951-02-28 -0.015404  \n",
       "4    1951-03-31  0.018392  \n",
       "..          ...       ...  \n",
       "861  2022-08-31  0.001046  \n",
       "862  2022-09-30 -0.014072  \n",
       "863  2022-10-31  0.038290  \n",
       "864  2022-11-30  0.009311  \n",
       "865  2022-12-31  0.000423  \n",
       "\n",
       "[866 rows x 9 columns]"
      ]
     },
     "execution_count": 165,
     "metadata": {},
     "output_type": "execute_result"
    }
   ],
   "source": [
    "jensen = pd.read_csv(\"C:\\FinancialEcon Machine Learning\\[usa]_[be_me]_[monthly]_[vw_cap].csv\")\n",
    "jensen"
   ]
  },
  {
   "cell_type": "code",
   "execution_count": 166,
   "id": "0826cf0c-7a6c-41bd-82db-b5d6f29e611a",
   "metadata": {
    "tags": []
   },
   "outputs": [
    {
     "data": {
      "image/png": "[encoded data removed]",
      "text/plain": [
       "<Figure size 1200x600 with 1 Axes>"
      ]
     },
     "metadata": {},
     "output_type": "display_data"
    }
   ],
   "source": [
    "cumulative_returns_jensen = jensen['ret'].cumsum()\n",
    "\n",
    "plt.figure(figsize=(12, 6))\n",
    "cumulative_returns_jensen.plot()\n",
    "plt.title('Cumulative Portfolio Returns Jensen et Al. (2021) (US)')\n",
    "plt.xlabel('Date')\n",
    "plt.ylabel('Cumulative Returns (%)')\n",
    "plt.grid(True)\n",
    "plt.show()"
   ]
  },
  {
   "cell_type": "markdown",
   "id": "36eac841-03d3-4cc1-b114-31528910cbff",
   "metadata": {},
   "source": [
    " "
   ]
  },
  {
   "cell_type": "markdown",
   "id": "c12424e1-7552-4777-8834-1e3088e3f892",
   "metadata": {},
   "source": [
    "Jensen et al's portfolio appears to represent a more short-term view with a more volatile return path. For both portfolios, the overall trend is upward, which is typical for equity markets over extended periods. The main differences, might be due to the fact that Jensen et al. approach may differ in how the portfolios are weighted or constructed, especially in the weighting of the stocks, additionally, I think that the universe of stocks considered and the rebalancing frequency, can affect the performance comparison. "
   ]
  }
 ],
 "metadata": {
  "kernelspec": {
   "display_name": "Python 3 (ipykernel)",
   "language": "python",
   "name": "python3"
  },
  "language_info": {
   "codemirror_mode": {
    "name": "ipython",
    "version": 3
   },
   "file_extension": ".py",
   "mimetype": "text/x-python",
   "name": "python",
   "nbconvert_exporter": "python",
   "pygments_lexer": "ipython3",
   "version": "3.8.18"
  }
 },
 "nbformat": 4,
 "nbformat_minor": 5
}
