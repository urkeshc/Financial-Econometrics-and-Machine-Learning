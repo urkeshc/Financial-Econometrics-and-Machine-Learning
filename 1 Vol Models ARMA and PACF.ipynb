{
 "cells": [
  {
   "cell_type": "markdown",
   "id": "ebb04229-c28f-4f16-8a87-31ec42462016",
   "metadata": {},
   "source": [
    "# 1. Volatility, PACF ACF ARMA"
   ]
  },
  {
   "cell_type": "markdown",
   "id": "749d0914-3a7d-4d0c-810e-f9c97c0e77da",
   "metadata": {},
   "source": [
    "# Part 1"
   ]
  },
  {
   "cell_type": "markdown",
   "id": "f2d3164a-fc8d-4550-871d-2c1ab7025681",
   "metadata": {},
   "source": [
    "1. Download the following six US factors from my website: be me, ret 12 1, market equity,\n",
    "qmj, ope be, rvol 21d. Use data from 1975-2020."
   ]
  },
  {
   "cell_type": "code",
   "execution_count": 1,
   "id": "e6fa90c4-d2dd-424b-bd91-a3cd9abe9a53",
   "metadata": {},
   "outputs": [],
   "source": [
    "import pandas as pd\n",
    "import numpy as np\n",
    "import matplotlib.pyplot as plt\n",
    "\n",
    "bm = pd.read_csv('C:/jibrile/Downloads/fe_datas_beme.csv')\n",
    "vol = pd.read_csv('C:/jibrile/Downloads/fe_datas_volatility.csv')\n",
    "me = pd.read_csv('C:/jibrile/Downloads/fe_datas_market_equity.csv')\n",
    "mom = pd.read_csv('C:/jibrile/Downloads/fe_datas_momentum.csv')\n",
    "qmj = pd.read_csv('C:/jibrile/Downloads/fe_datas_qualityminusjunk.csv')\n",
    "op_me = pd.read_csv('C:/jibrile/Downloads/fe_datas_operatingprofits_bookequity.csv')"
   ]
  },
  {
   "cell_type": "code",
   "execution_count": 2,
   "id": "845ded75-660f-4938-a67f-70bc47cd6b5e",
   "metadata": {},
   "outputs": [],
   "source": [
    "import pandas as pd\n",
    "\n",
    "def process_data(df):\n",
    "    \"\"\"\n",
    "    Process the given DataFrame as specified.\n",
    "    \n",
    "    Args:\n",
    "    - df (DataFrame): The input DataFrame.\n",
    "\n",
    "    Returns:\n",
    "    - DataFrame: The processed DataFrame.\n",
    "    \"\"\"\n",
    "    # Convert \"date\" column to datetime format and set as index if it exists\n",
    "    if \"date\" in df.columns:\n",
    "        df[\"date\"] = pd.to_datetime(df[\"date\"], format=\"%d/%m/%Y\")\n",
    "        df = df.set_index(\"date\")\n",
    "        df.index = df.index.to_period(\"M\").to_timestamp(\"M\")\n",
    "    else:\n",
    "        print(\"Warning: 'date' column not found. Skipping datetime conversion.\")\n",
    "    \n",
    "    # Drop unnecessary columns if they exist\n",
    "    columns_to_drop = ['name', 'location', 'weighting', 'freq', 'direction']\n",
    "    for col in columns_to_drop:\n",
    "        if col in df.columns:\n",
    "            df = df.drop(col, axis=1)\n",
    "    \n",
    "    # Filter data to start from '1975-01-01'\n",
    "    df = df['1975-01-01':]\n",
    "    \n",
    "    return df\n"
   ]
  },
  {
   "cell_type": "code",
   "execution_count": 3,
   "id": "76cc6243-26cd-45ef-907e-9654ea5bf5b7",
   "metadata": {},
   "outputs": [],
   "source": [
    "beme = pd.DataFrame(bm)\n",
    "vol = pd.DataFrame(vol)\n",
    "me = pd.DataFrame(me)\n",
    "mom = pd.DataFrame(mom)\n",
    "qmj = pd.DataFrame(qmj)\n",
    "op_me = pd.DataFrame(op_me)\n",
    "\n",
    "beme = process_data(beme)\n",
    "vol = process_data(vol)\n",
    "me = process_data(me)\n",
    "mom = process_data(mom)\n",
    "qmj = process_data(qmj)\n",
    "op_me = process_data(op_me)"
   ]
  },
  {
   "cell_type": "markdown",
   "id": "ccc599a3-4a11-4a12-aa94-a7f70e4abcdb",
   "metadata": {},
   "source": [
    "# "
   ]
  },
  {
   "cell_type": "markdown",
   "id": "edf8c777-e31b-4369-8a11-fc9002b1de75",
   "metadata": {},
   "source": [
    "#"
   ]
  },
  {
   "cell_type": "markdown",
   "id": "62abad29-b2d4-494e-b099-04909d791e8f",
   "metadata": {},
   "source": [
    "# Plot ACF"
   ]
  },
  {
   "cell_type": "code",
   "execution_count": 4,
   "id": "8097d2d8-826b-4992-a3ed-39019c518244",
   "metadata": {},
   "outputs": [],
   "source": [
    "# ACF:\n",
    "# ρj = Cov (rt , rt−j ) / γ0\n",
    "# Rt = returns\n",
    "# acf1_j = 1\n",
    "# var = rets.var()\n",
    "# pj = (rets - rets.shift(j)) / var"
   ]
  },
  {
   "cell_type": "code",
   "execution_count": 5,
   "id": "19b6e7d4-7db8-4ffe-96fc-69dcf761f1c2",
   "metadata": {},
   "outputs": [],
   "source": [
    "def calculate_acf(df, max_lag=12):\n",
    "    acf_values = []\n",
    "    \n",
    "    for lag in range(1, max_lag + 1):\n",
    "        df['shifted'] = df['ret'].shift(-lag)\n",
    "        autocov = np.cov(df['ret'][:-lag], df['shifted'][:-lag])[0, 1]\n",
    "        ret_var = df['ret'].var()\n",
    "        acf = autocov / ret_var\n",
    "        acf_values.append(acf)\n",
    "        \n",
    "    return acf_values\n",
    "\n",
    "acf_beme = calculate_acf(beme)\n",
    "acf_vol = calculate_acf(vol)\n",
    "acf_me = calculate_acf(me)\n",
    "acf_mom = calculate_acf(mom)\n",
    "acf_qmj = calculate_acf(qmj)\n",
    "acf_op_me = calculate_acf(op_me)"
   ]
  },
  {
   "cell_type": "code",
   "execution_count": 6,
   "id": "774cfa81-4b41-4a53-bb5f-1b7b628006fd",
   "metadata": {},
   "outputs": [],
   "source": [
    "def plot_acf_multiple(dfs):\n",
    "    n = len(dfs)\n",
    "    fig, axes = plt.subplots(1, n, figsize=(n*5, 6))  # n*5 determines the width of each plot\n",
    "    \n",
    "    lags = list(range(1, 13))\n",
    "    num_lags = len(lags)\n",
    "    ticks_frequency = num_lags // 10  # Adjust this as needed\n",
    "    \n",
    "    for ax, (name, df) in zip(axes, dfs.items()):\n",
    "        acf_values = calculate_acf(df)\n",
    "        \n",
    "        ax.stem(lags, acf_values, basefmt=\" \", use_line_collection=True)\n",
    "        ax.axhline(y=0, linestyle='--', color='grey')\n",
    "        ax.set_title(f'ACF for {name}')\n",
    "        ax.set_ylabel('Autocorrelation')\n",
    "        ax.set_xlabel('Lags')\n",
    "        ax.set_xticks(list(range(0, num_lags, ticks_frequency)))\n",
    "        ax.set_xticklabels(list(range(0, num_lags, ticks_frequency)))\n",
    "\n",
    "    plt.tight_layout()\n",
    "    plt.show()\n",
    "\n",
    "dfs = {\n",
    "    \"beme\": beme,\n",
    "    \"vol\": vol,\n",
    "    \"me\": me,\n",
    "    \"mom\": mom,\n",
    "    \"qmj\": qmj,\n",
    "    \"op_me\": op_me\n",
    "}"
   ]
  },
  {
   "cell_type": "markdown",
   "id": "0f5c0a51-84c9-4101-a93c-e8e66603078d",
   "metadata": {},
   "source": [
    "# "
   ]
  },
  {
   "cell_type": "markdown",
   "id": "45229528-e06d-49c9-ba52-c48c13f927dc",
   "metadata": {},
   "source": [
    "# "
   ]
  },
  {
   "cell_type": "markdown",
   "id": "baa3ee43-6f94-4411-aa4c-feed1c2d8bc4",
   "metadata": {},
   "source": [
    "# Plot PACF"
   ]
  },
  {
   "cell_type": "markdown",
   "id": "25f400ff-517e-4c51-b9fb-92251c7322a3",
   "metadata": {},
   "source": [
    "formula: rt = intercept + coef for lag 1 + coef for lag 2 + ... + coef for lag n + error\n",
    "\n",
    "setup ols for calculating coefficients: \n",
    "(Lagged values Matrix' Lagged VAL M)^-1 * X' * Vector of Rts\n",
    "\n",
    "- Coef = (X'X)^-1 X'Y"
   ]
  },
  {
   "cell_type": "code",
   "execution_count": 7,
   "id": "3cf170fc-aadf-456c-9585-c74dc9e617d5",
   "metadata": {},
   "outputs": [],
   "source": [
    "# create pacf function: \n",
    "\n",
    "def calculate_pacf(df, max_lag=12):\n",
    "    dataset_pacf = pd.DataFrame(index=df.index)\n",
    "    \n",
    "    for lag in range(1, max_lag+1):\n",
    "        dataset_pacf[f'lagged_{lag}'] = df['ret'].shift(lag)\n",
    "        \n",
    "    dataset_pacf = dataset_pacf.dropna()\n",
    "    dataset_pacf['returns (dependent var)'] = df['ret']\n",
    "    \n",
    "    y = dataset_pacf['returns (dependent var)']\n",
    "    x = dataset_pacf.drop(columns='returns (dependent var)') #all other cols\n",
    "    x['intercept'] = 1\n",
    "    \n",
    "    # matrix operations\n",
    "    x_transpose = x.T\n",
    "    xt_x = x_transpose.dot(x)\n",
    "    xt_x_inv =  pd.DataFrame(np.linalg.inv(xt_x.values), index=xt_x.index, columns=xt_x.columns)\n",
    "    xt_y = x_transpose.dot(y)\n",
    "    \n",
    "    ols_estimator = xt_x_inv.dot(xt_y)\n",
    "    \n",
    "    return ols_estimator"
   ]
  },
  {
   "cell_type": "code",
   "execution_count": 8,
   "id": "85c3b1e2-8a63-4ff0-8e75-3451615e14f2",
   "metadata": {},
   "outputs": [],
   "source": [
    "# apply func to factors\n",
    "pacf_beme = calculate_pacf(beme)\n",
    "pacf_vol = calculate_pacf(vol)\n",
    "pacf_me = calculate_pacf(me)\n",
    "pacf_mom = calculate_pacf(mom)\n",
    "pacf_qmj = calculate_pacf(qmj)\n",
    "pacf_op_me = calculate_pacf(op_me)"
   ]
  },
  {
   "cell_type": "code",
   "execution_count": 9,
   "id": "2cc3f841-f724-4456-b9b8-877d758ef153",
   "metadata": {},
   "outputs": [
    {
     "data": {
      "image/png": "[encoded data removed]",
      "text/plain": [
       "<Figure size 2160x432 with 6 Axes>"
      ]
     },
     "metadata": {
      "needs_background": "light"
     },
     "output_type": "display_data"
    }
   ],
   "source": [
    "# Plot pacf's\n",
    "import matplotlib.pyplot as plt\n",
    "\n",
    "def plot_pacf_multiple(dfs):\n",
    "    n = len(dfs)\n",
    "    fig, axes = plt.subplots(1, n, figsize=(n*5, 6))  # n*5 determines the width of each plot\n",
    "    \n",
    "    lags = list(range(1, 13))\n",
    "    num_lags = len(lags)\n",
    "    ticks_frequency = num_lags // 10  # Adjust this as needed\n",
    "    \n",
    "    for ax, (name, df) in zip(axes, dfs.items()):\n",
    "        pacf_values = calculate_pacf(df)\n",
    "        # Remove the intercept value for plotting\n",
    "        pacf_values = pacf_values[:-1]\n",
    "        \n",
    "        ax.stem(lags, pacf_values, basefmt=\" \", use_line_collection=True)\n",
    "        ax.axhline(y=0, linestyle='--', color='grey')\n",
    "        ax.set_title(f'PACF for {name}')\n",
    "        ax.set_ylabel('Partial Autocorrelation')\n",
    "        ax.set_xlabel('Lags')\n",
    "        ax.set_xticks(list(range(0, num_lags, ticks_frequency)))\n",
    "        ax.set_xticklabels(list(range(0, num_lags, ticks_frequency)))\n",
    "\n",
    "    plt.tight_layout()\n",
    "    plt.show()\n",
    "\n",
    "# Define a dictionary with all dataframes\n",
    "dfs = {\n",
    "    \"beme\": beme,\n",
    "    \"vol\": vol,\n",
    "    \"me\": me,\n",
    "    \"mom\": mom,\n",
    "    \"qmj\": qmj,\n",
    "    \"op_me\": op_me\n",
    "}\n",
    "\n",
    "# Plot PACF for each dataframe\n",
    "plot_pacf_multiple(dfs)"
   ]
  },
  {
   "cell_type": "code",
   "execution_count": 10,
   "id": "aa0ffcfa-fe69-456e-88f5-977d45b5cfe4",
   "metadata": {},
   "outputs": [
    {
     "data": {
      "image/png": "[encoded data removed]",
      "text/plain": [
       "<Figure size 2160x432 with 6 Axes>"
      ]
     },
     "metadata": {
      "needs_background": "light"
     },
     "output_type": "display_data"
    }
   ],
   "source": [
    "plot_acf_multiple(dfs)"
   ]
  },
  {
   "cell_type": "markdown",
   "id": "1cb80179-6424-4038-ad93-9ae6661b84f4",
   "metadata": {},
   "source": [
    "# "
   ]
  },
  {
   "cell_type": "markdown",
   "id": "479df24c-757f-4f18-99b1-22988fb94eb3",
   "metadata": {},
   "source": [
    "# "
   ]
  },
  {
   "cell_type": "markdown",
   "id": "0bd2c323-7681-4f21-ac25-2365853dab83",
   "metadata": {},
   "source": [
    "Interpretation of results: \n",
    "- BEME: it seems like both on the ACF and PACF, there is little explanatory power as you get further in lags. We can also notice the performance of the acf is a little better than pacf as you go through lags. \n",
    "- VOL: There is no clear pattern in terms of the pacf and acf for volatility, data is dispersed through different levels of autocorelation. \n",
    "- MKT EQUITY: similar results as in VOL, however one thing to note is the better autocorrelation for a 12 month lag, this is also consistent with the fact that momentum strategies perform best when you use 12 month momentum. \n",
    "- MOM: Stronger results in momentum with 2, 11, 12 and 17 months. The 2 months might be due to short term mean reversion effects, and the 11 and 12 month might be because of cyclical patterns in the economy, which might also be the case in the 17 months momentum.\n",
    "- QMJ: Stronger retuls in 1 and 13 lags, pretty consitent returns across acf and pacf, but more powerfull prediction in the pacf method. \n",
    "- OPERATING PROFITS TO ME: effects seem to dissipate after 13 months, this might be due to the effect of market cap catching up with strong operating profits after a certain period of time, which could indicate the markets takes time to price it in. "
   ]
  },
  {
   "cell_type": "markdown",
   "id": "12dbef82-6d8e-4e1b-8f8d-3ef161007f1a",
   "metadata": {},
   "source": [
    "# "
   ]
  },
  {
   "cell_type": "markdown",
   "id": "7b7d2190-5e91-4914-a83c-f4b74f762804",
   "metadata": {},
   "source": [
    "# "
   ]
  },
  {
   "cell_type": "markdown",
   "id": "70802479-c535-4f8a-9ce3-b1417a982328",
   "metadata": {},
   "source": [
    "# DYNAMICS OF TIMESERIES USING DIFFERENT MODELS"
   ]
  },
  {
   "cell_type": "markdown",
   "id": "a77f370f-c4f3-4d57-bc9a-ffcaf387d4af",
   "metadata": {},
   "source": [
    "# a) Using regression"
   ]
  },
  {
   "cell_type": "markdown",
   "id": "204d6607-fcc5-481e-81b0-625ac1620060",
   "metadata": {},
   "source": [
    "# AUTOREGRESSIVE "
   ]
  },
  {
   "cell_type": "code",
   "execution_count": 11,
   "id": "e03cc9d3-1eee-4d41-a46d-5d7faf623e59",
   "metadata": {},
   "outputs": [
    {
     "name": "stdout",
     "output_type": "stream",
     "text": [
      "                               SARIMAX Results                                \n",
      "==============================================================================\n",
      "Dep. Variable:                    ret   No. Observations:                  576\n",
      "Model:                 ARIMA(1, 0, 0)   Log Likelihood                1069.778\n",
      "Date:                Sat, 04 Nov 2023   AIC                          -2133.557\n",
      "Time:                        00:32:32   BIC                          -2120.488\n",
      "Sample:                    01-31-1975   HQIC                         -2128.460\n",
      "                         - 12-31-2022                                         \n",
      "Covariance Type:                  opg                                         \n",
      "==============================================================================\n",
      "                 coef    std err          z      P>|z|      [0.025      0.975]\n",
      "------------------------------------------------------------------------------\n",
      "const          0.0027      0.002      1.457      0.145      -0.001       0.006\n",
      "ar.L1          0.1301      0.016      8.228      0.000       0.099       0.161\n",
      "sigma2         0.0014   3.33e-05     42.785      0.000       0.001       0.001\n",
      "===================================================================================\n",
      "Ljung-Box (L1) (Q):                   0.12   Jarque-Bera (JB):              3181.61\n",
      "Prob(Q):                              0.73   Prob(JB):                         0.00\n",
      "Heteroskedasticity (H):               1.06   Skew:                            -0.20\n",
      "Prob(H) (two-sided):                  0.67   Kurtosis:                        14.51\n",
      "===================================================================================\n",
      "\n",
      "Warnings:\n",
      "[1] Covariance matrix calculated using the outer product of gradients (complex-step).\n",
      "                               SARIMAX Results                                \n",
      "==============================================================================\n",
      "Dep. Variable:                    ret   No. Observations:                  576\n",
      "Model:                 ARIMA(2, 0, 0)   Log Likelihood                1071.590\n",
      "Date:                Sat, 04 Nov 2023   AIC                          -2135.180\n",
      "Time:                        00:32:32   BIC                          -2117.756\n",
      "Sample:                    01-31-1975   HQIC                         -2128.385\n",
      "                         - 12-31-2022                                         \n",
      "Covariance Type:                  opg                                         \n",
      "==============================================================================\n",
      "                 coef    std err          z      P>|z|      [0.025      0.975]\n",
      "------------------------------------------------------------------------------\n",
      "const          0.0027      0.002      1.342      0.180      -0.001       0.007\n",
      "ar.L1          0.1190      0.015      7.694      0.000       0.089       0.149\n",
      "ar.L2          0.0811      0.017      4.811      0.000       0.048       0.114\n",
      "sigma2         0.0014   3.35e-05     42.326      0.000       0.001       0.001\n",
      "===================================================================================\n",
      "Ljung-Box (L1) (Q):                   0.00   Jarque-Bera (JB):              3003.00\n",
      "Prob(Q):                              0.99   Prob(JB):                         0.00\n",
      "Heteroskedasticity (H):               1.06   Skew:                            -0.07\n",
      "Prob(H) (two-sided):                  0.68   Kurtosis:                        14.18\n",
      "===================================================================================\n",
      "\n",
      "Warnings:\n",
      "[1] Covariance matrix calculated using the outer product of gradients (complex-step).\n"
     ]
    }
   ],
   "source": [
    "from statsmodels.tsa.arima.model import ARIMA\n",
    "arma1_beme = ARIMA(beme['ret'], order=(1, 0, 0)).fit()\n",
    "arma2_beme = ARIMA(beme['ret'], order=(2, 0, 0)).fit()\n",
    "arma3_beme = ARIMA(beme['ret'], order=(3, 0, 0)).fit()\n",
    "print(arma1_beme.summary())\n",
    "print(arma2_beme.summary())\n",
    "# print(arma3_beme.summary())"
   ]
  },
  {
   "cell_type": "markdown",
   "id": "f24bdcfa-2a90-470c-867f-307b2055794b",
   "metadata": {},
   "source": [
    "# Manual arma(1, 0)"
   ]
  },
  {
   "cell_type": "code",
   "execution_count": 12,
   "id": "7dcb5614-806c-4ae8-81b2-e6a5ca8daba1",
   "metadata": {},
   "outputs": [],
   "source": [
    "beme['lagged_1'] = beme['ret'].shift(1)\n",
    "beme = beme.dropna()  # drop rows with NaN after creating the lagged column\n",
    "\n",
    "# run regression using ols method: \n",
    "# arma prediction = intercept + Beta (lagged_1) + error\n",
    "meanret = beme['ret'].mean()\n",
    "meanlag1r = beme['lagged_1'].mean()\n",
    "autoregressive_param = ((beme['ret'] - meanret)*(beme['lagged_1'] - meanlag1r)).sum() /  (beme['lagged_1'] - meanlag1r).pow(2).sum() # ols equation\n",
    "intercept = meanret - autoregressive_param * meanlag1r\n",
    "residuals = beme['ret'] - (intercept + autoregressive_param*(beme['lagged_1']))"
   ]
  },
  {
   "cell_type": "code",
   "execution_count": 13,
   "id": "179d89fd-70da-4484-b81d-0d319f50c71e",
   "metadata": {},
   "outputs": [
    {
     "data": {
      "text/plain": [
       "0.11714313395402128"
      ]
     },
     "execution_count": 13,
     "metadata": {},
     "output_type": "execute_result"
    }
   ],
   "source": [
    "autoregressive_param"
   ]
  },
  {
   "cell_type": "code",
   "execution_count": 14,
   "id": "02dd2b88-fba1-4045-822c-b04b3b6ad777",
   "metadata": {},
   "outputs": [
    {
     "name": "stdout",
     "output_type": "stream",
     "text": [
      "Results for vol:\n",
      "Optimized constant: 0.002519857793960922\n",
      "Optimized ar(1) parameter: 0.05165103908746476\n",
      "Optimized sigma2: 0.0021882320817051496\n",
      "\n",
      "Results for me:\n",
      "Optimized constant: 0.0009285931420959123\n",
      "Optimized ar(1) parameter: 0.06917580290101756\n",
      "Optimized sigma2: 0.0012528732753108326\n",
      "\n",
      "Results for mom:\n",
      "Optimized constant: 0.0026094389857904124\n",
      "Optimized ar(1) parameter: 0.03908681768789097\n",
      "Optimized sigma2: 0.002419597582593251\n",
      "\n",
      "Results for qmj:\n",
      "Optimized constant: 0.002730720893428063\n",
      "Optimized ar(1) parameter: 0.10914180738137842\n",
      "Optimized sigma2: 0.0025471331722912963\n",
      "\n",
      "Results for op_me:\n",
      "Optimized constant: 0.003815116920071045\n",
      "Optimized ar(1) parameter: 0.12978701847284996\n",
      "Optimized sigma2: 0.003618897655417404\n",
      "\n"
     ]
    }
   ],
   "source": [
    "#apply func for all factors\n",
    "def compute_autoregressive_param_for_named_dfs(dfs_dict, col_name='ret'):\n",
    "    ar_params = {}\n",
    "\n",
    "    for name, df in dfs_dict.items():\n",
    "        df['lagged_1'] = df[col_name].shift(1)\n",
    "        df = df.dropna()\n",
    "\n",
    "        meanret = df[col_name].mean()\n",
    "        meanlag1r = df['lagged_1'].mean()\n",
    "        autoregressive_param = ((df[col_name] - meanret)*(df['lagged_1'] - meanlag1r)).sum() / (df['lagged_1'] - meanlag1r).pow(2).sum()\n",
    "        \n",
    "        print(f\"Results for {name}:\")\n",
    "        print(f\"Optimized constant: {meanret}\") \n",
    "        print(f\"Optimized ar(1) parameter: {autoregressive_param}\")\n",
    "        print(f\"Optimized sigma2: {meanlag1r}\")\n",
    "        print()  # For a newline\n",
    "\n",
    "        ar_params[name] = autoregressive_param\n",
    "\n",
    "    return ar_params\n",
    "\n",
    "\n",
    "dataframes_dict = {'vol': vol, 'me': me, 'mom': mom, 'qmj':qmj, 'op_me': op_me}\n",
    "ar_params = compute_autoregressive_param_for_named_dfs(dataframes_dict)"
   ]
  },
  {
   "cell_type": "markdown",
   "id": "9132cc85-6634-4bcb-90c4-b43f20ea76b5",
   "metadata": {},
   "source": [
    "# Manual arma(2, 0)"
   ]
  },
  {
   "cell_type": "code",
   "execution_count": 15,
   "id": "0617cd0c-da4a-4c70-a741-3cf90a0cf90c",
   "metadata": {},
   "outputs": [
    {
     "name": "stderr",
     "output_type": "stream",
     "text": [
      "<ipython-input-15-90be94059ac4>:1: SettingWithCopyWarning: \n",
      "A value is trying to be set on a copy of a slice from a DataFrame.\n",
      "Try using .loc[row_indexer,col_indexer] = value instead\n",
      "\n",
      "See the caveats in the documentation: https://pandas.pydata.org/pandas-docs/stable/user_guide/indexing.html#returning-a-view-versus-a-copy\n",
      "  beme['lagged_2'] = beme['ret'].shift(2)\n"
     ]
    }
   ],
   "source": [
    "beme['lagged_2'] = beme['ret'].shift(2)\n",
    "beme = beme.dropna()  # drop rows with NaN after creating the lagged column\n",
    "\n",
    "# run regression using ols method: \n",
    "# arma prediction = intercept + Beta (lagged_1) + error\n",
    "X = beme[['lagged_1', 'lagged_2']]\n",
    "intercept_ar2 = 1\n",
    "betas = np.linalg.lstsq(X, beme['ret'], rcond=None)[0] # add[0] to get only the least squares solution from the output of the .lstsq function\n",
    "\n",
    "prediction = np.dot(X, betas)\n",
    "residuals_ar2 = beme['ret'] - prediction"
   ]
  },
  {
   "cell_type": "code",
   "execution_count": 16,
   "id": "9623351d-a6dc-49f5-946f-426ff58bf4f8",
   "metadata": {},
   "outputs": [
    {
     "data": {
      "text/plain": [
       "array([0.12071518, 0.08777757])"
      ]
     },
     "execution_count": 16,
     "metadata": {},
     "output_type": "execute_result"
    }
   ],
   "source": [
    "betas"
   ]
  },
  {
   "cell_type": "code",
   "execution_count": 17,
   "id": "89ed4727-d920-40e9-9268-b85137dbcddb",
   "metadata": {},
   "outputs": [
    {
     "name": "stdout",
     "output_type": "stream",
     "text": [
      "Results for vol:\n",
      "Optimized AR(1) coefficient: 0.05336811093130751\n",
      "Optimized AR(2) coefficient: -0.019771899480938427\n",
      "Residuals mean: 0.0024868265361276463\n",
      "\n",
      "Results for me:\n",
      "Optimized AR(1) coefficient: 0.06809021087590304\n",
      "Optimized AR(2) coefficient: 0.07884490119599631\n",
      "Residuals mean: 0.0007626458373563449\n",
      "\n",
      "Results for mom:\n",
      "Optimized AR(1) coefficient: 0.044001611304471056\n",
      "Optimized AR(2) coefficient: -0.08589870324373401\n",
      "Residuals mean: 0.0027585023641649815\n",
      "\n",
      "Results for qmj:\n",
      "Optimized AR(1) coefficient: 0.14348181903353743\n",
      "Optimized AR(2) coefficient: -0.006247948355450806\n",
      "Residuals mean: 0.002282400716228783\n",
      "\n",
      "Results for op_me:\n",
      "Optimized AR(1) coefficient: 0.15535583153060856\n",
      "Optimized AR(2) coefficient: -0.06236892427717089\n",
      "Residuals mean: 0.00341524996857827\n",
      "\n"
     ]
    }
   ],
   "source": [
    "# apply func for all factors\n",
    "def compute_arma_2_0_for_dfs(dfs_dict, col_name='ret'):\n",
    "\n",
    "    arma_params = {}\n",
    "\n",
    "    for name, df in dfs_dict.items():\n",
    "        df['lagged_1'] = df[col_name].shift(1)\n",
    "        df['lagged_2'] = df[col_name].shift(2)\n",
    "        df = df.dropna()\n",
    "\n",
    "        X = df[['lagged_1', 'lagged_2']]\n",
    "        betas = np.linalg.lstsq(X, df[col_name], rcond=None)[0]\n",
    "\n",
    "        prediction = np.dot(X, betas)\n",
    "        residuals_ar2 = df[col_name] - prediction\n",
    "        \n",
    "        print(f\"Results for {name}:\")\n",
    "        print(f\"Optimized AR(1) coefficient: {betas[0]}\")\n",
    "        print(f\"Optimized AR(2) coefficient: {betas[1]}\")\n",
    "        print(f\"Residuals mean: {residuals_ar2.mean()}\")\n",
    "        print()  # For a newline\n",
    "\n",
    "        arma_params[name] = (betas[0], betas[1])\n",
    "\n",
    "    return arma_params\n",
    "\n",
    "# Example usage:\n",
    "dataframes_dict ={'vol': vol, 'me': me, 'mom': mom, 'qmj':qmj, 'op_me': op_me}\n",
    "arma_params = compute_arma_2_0_for_dfs(dataframes_dict)\n"
   ]
  },
  {
   "cell_type": "code",
   "execution_count": 18,
   "id": "5125b6f4-86b5-47c3-a5e5-f10155e0b1f7",
   "metadata": {},
   "outputs": [
    {
     "name": "stdout",
     "output_type": "stream",
     "text": [
      "                               SARIMAX Results                                \n",
      "==============================================================================\n",
      "Dep. Variable:                    ret   No. Observations:                  576\n",
      "Model:                 ARIMA(2, 0, 0)   Log Likelihood                 845.851\n",
      "Date:                Sat, 04 Nov 2023   AIC                          -1683.702\n",
      "Time:                        00:32:32   BIC                          -1666.277\n",
      "Sample:                    01-31-1975   HQIC                         -1676.906\n",
      "                         - 12-31-2022                                         \n",
      "Covariance Type:                  opg                                         \n",
      "==============================================================================\n",
      "                 coef    std err          z      P>|z|      [0.025      0.975]\n",
      "------------------------------------------------------------------------------\n",
      "const          0.0030      0.002      1.245      0.213      -0.002       0.008\n",
      "ar.L1          0.0623      0.018      3.436      0.001       0.027       0.098\n",
      "ar.L2         -0.0192      0.019     -1.019      0.308      -0.056       0.018\n",
      "sigma2         0.0031   8.25e-05     37.637      0.000       0.003       0.003\n",
      "===================================================================================\n",
      "Ljung-Box (L1) (Q):                   0.00   Jarque-Bera (JB):              1673.84\n",
      "Prob(Q):                              1.00   Prob(JB):                         0.00\n",
      "Heteroskedasticity (H):               1.60   Skew:                            -0.03\n",
      "Prob(H) (two-sided):                  0.00   Kurtosis:                        11.35\n",
      "===================================================================================\n",
      "\n",
      "Warnings:\n",
      "[1] Covariance matrix calculated using the outer product of gradients (complex-step).\n"
     ]
    }
   ],
   "source": [
    "volar2 = ARIMA(vol['ret'], order=(2, 0, 0)).fit()\n",
    "print(volar2.summary())"
   ]
  },
  {
   "cell_type": "code",
   "execution_count": 19,
   "id": "805ad291-a745-462b-b4b8-a8673d8b9229",
   "metadata": {},
   "outputs": [
    {
     "data": {
      "text/plain": [
       "array([ 0.12533742,  0.0938784 , -0.05067872])"
      ]
     },
     "execution_count": 19,
     "metadata": {},
     "output_type": "execute_result"
    }
   ],
   "source": [
    "# Try for Arma(3, 0)\n",
    "beme['lagged_3'] = beme['ret'].shift(3)\n",
    "beme = beme.dropna()\n",
    "X3 = beme[['lagged_1', 'lagged_2', 'lagged_3']]\n",
    "intercept_ar3 = 1\n",
    "betas_ar3 = np.linalg.lstsq(X3, beme['ret'], rcond=None)[0] # add[0] to get only the least squares solution from the output of the .lstsq function\n",
    "prediction_ar3 = np.dot(X3, betas_ar3)\n",
    "residuals_ar3 = beme['ret'] - prediction_ar3\n",
    "betas_ar3"
   ]
  },
  {
   "cell_type": "markdown",
   "id": "b6d3d664-cfdf-4163-806c-284838d25425",
   "metadata": {},
   "source": [
    "# "
   ]
  },
  {
   "cell_type": "markdown",
   "id": "f57735fc-aa91-418c-9570-fef57345f5ea",
   "metadata": {},
   "source": [
    "# MOVING AVERAGE"
   ]
  },
  {
   "cell_type": "code",
   "execution_count": 20,
   "id": "56ac3513-f344-4e67-8ca8-0488ab6dc4fc",
   "metadata": {},
   "outputs": [
    {
     "name": "stdout",
     "output_type": "stream",
     "text": [
      "                               SARIMAX Results                                \n",
      "==============================================================================\n",
      "Dep. Variable:                    ret   No. Observations:                  558\n",
      "Model:                 ARIMA(0, 0, 1)   Log Likelihood                1046.941\n",
      "Date:                Sat, 04 Nov 2023   AIC                          -2087.883\n",
      "Time:                        00:32:33   BIC                          -2074.910\n",
      "Sample:                    07-31-1975   HQIC                         -2082.816\n",
      "                         - 12-31-2021                                         \n",
      "Covariance Type:                  opg                                         \n",
      "==============================================================================\n",
      "                 coef    std err          z      P>|z|      [0.025      0.975]\n",
      "------------------------------------------------------------------------------\n",
      "const          0.0020      0.002      1.139      0.255      -0.001       0.006\n",
      "ma.L1          0.1071      0.016      6.847      0.000       0.076       0.138\n",
      "sigma2         0.0014   3.26e-05     42.143      0.000       0.001       0.001\n",
      "===================================================================================\n",
      "Ljung-Box (L1) (Q):                   0.08   Jarque-Bera (JB):              3359.71\n",
      "Prob(Q):                              0.78   Prob(JB):                         0.00\n",
      "Heteroskedasticity (H):               1.14   Skew:                            -0.46\n",
      "Prob(H) (two-sided):                  0.38   Kurtosis:                        14.99\n",
      "===================================================================================\n",
      "\n",
      "Warnings:\n",
      "[1] Covariance matrix calculated using the outer product of gradients (complex-step).\n"
     ]
    }
   ],
   "source": [
    "from statsmodels.tsa.arima.model import ARIMA\n",
    "arma1_beme = ARIMA(beme['ret'], order=(0, 0, 1)).fit()\n",
    "arma2_beme = ARIMA(beme['ret'], order=(0, 0, 2)).fit()\n",
    "arma3_beme = ARIMA(beme['ret'], order=(0, 0, 3)).fit()\n",
    "print(arma1_beme.summary())\n",
    "# print(arma2_beme.summary())\n",
    "# print(arma3_beme.summary())"
   ]
  },
  {
   "cell_type": "markdown",
   "id": "71b84039-afd2-450a-93c9-512f865fc60a",
   "metadata": {},
   "source": [
    "# ARMA(0, 1)"
   ]
  },
  {
   "cell_type": "code",
   "execution_count": 21,
   "id": "b7c8974f-f404-40ae-a26f-f98cc7f782ae",
   "metadata": {},
   "outputs": [
    {
     "data": {
      "text/plain": [
       "0.128478411805897"
      ]
     },
     "execution_count": 21,
     "metadata": {},
     "output_type": "execute_result"
    }
   ],
   "source": [
    "error_terms = beme['ret'] - meanret # white noise where meanret = beme['ret'].mean()\n",
    "lagged_errors = error_terms.shift(1)\n",
    "lagged_errors = lagged_errors.dropna()\n",
    "\n",
    "ma1_coeff = ((error_terms - error_terms.mean())*(lagged_errors - lagged_errors.mean())).sum() /  (error_terms - error_terms.mean()).pow(2).sum() # regress original series on lagged errors\n",
    "\n",
    "ma1_coeff"
   ]
  },
  {
   "cell_type": "code",
   "execution_count": 22,
   "id": "db80c652-fad3-46a4-b06a-2e2f1e9b8baa",
   "metadata": {},
   "outputs": [
    {
     "name": "stdout",
     "output_type": "stream",
     "text": [
      "Results for vol:\n",
      "Optimized MA(1) coefficient: 0.06218245481051917\n",
      "\n",
      "Results for me:\n",
      "Optimized MA(1) coefficient: 0.07260985227295592\n",
      "\n",
      "Results for mom:\n",
      "Optimized MA(1) coefficient: 0.03891398233722228\n",
      "\n",
      "Results for qmj:\n",
      "Optimized MA(1) coefficient: 0.10642327484128998\n",
      "\n",
      "Results for op_me:\n",
      "Optimized MA(1) coefficient: 0.1425204365545763\n",
      "\n"
     ]
    }
   ],
   "source": [
    "# apply func for all factors\n",
    "def compute_ma1_for_dfs(dfs_dict, col_name='ret'):\n",
    "    \n",
    "    ma1_coeffs = {}\n",
    "\n",
    "    for name, df in dfs_dict.items():\n",
    "        meanret = df[col_name].mean()\n",
    "        error_terms = df[col_name] - meanret\n",
    "        lagged_errors = error_terms.shift(1).dropna()\n",
    "\n",
    "        ma1_coeff = ((error_terms - error_terms.mean())*(lagged_errors - lagged_errors.mean())).sum() / (error_terms - error_terms.mean()).pow(2).sum()\n",
    "        \n",
    "        print(f\"Results for {name}:\")\n",
    "        print(f\"Optimized MA(1) coefficient: {ma1_coeff}\")\n",
    "        print()  # For a newline\n",
    "\n",
    "        ma1_coeffs[name] = ma1_coeff\n",
    "\n",
    "    return ma1_coeffs\n",
    "\n",
    "dataframes_dict ={'vol': vol, 'me': me, 'mom': mom, 'qmj':qmj, 'op_me': op_me}\n",
    "ma1_params = compute_ma1_for_dfs(dataframes_dict)"
   ]
  },
  {
   "cell_type": "markdown",
   "id": "33d63be1-5029-40bd-874a-946901c8dfca",
   "metadata": {},
   "source": [
    "#"
   ]
  },
  {
   "cell_type": "markdown",
   "id": "42dec868-3bf4-4e7c-894e-ba019fc1c7de",
   "metadata": {},
   "source": [
    "# AUTOREGRESSIVE MOVING AVERAGE"
   ]
  },
  {
   "cell_type": "code",
   "execution_count": 23,
   "id": "b4dd2da0-3df2-40c2-9278-d0f21692e462",
   "metadata": {},
   "outputs": [
    {
     "name": "stdout",
     "output_type": "stream",
     "text": [
      "                               SARIMAX Results                                \n",
      "==============================================================================\n",
      "Dep. Variable:                    ret   No. Observations:                  558\n",
      "Model:                 ARIMA(1, 0, 1)   Log Likelihood                1048.984\n",
      "Date:                Sat, 04 Nov 2023   AIC                          -2089.969\n",
      "Time:                        00:32:33   BIC                          -2072.671\n",
      "Sample:                    07-31-1975   HQIC                         -2083.213\n",
      "                         - 12-31-2021                                         \n",
      "Covariance Type:                  opg                                         \n",
      "==============================================================================\n",
      "                 coef    std err          z      P>|z|      [0.025      0.975]\n",
      "------------------------------------------------------------------------------\n",
      "const          0.0020      0.002      0.967      0.333      -0.002       0.006\n",
      "ar.L1          0.5050      0.092      5.505      0.000       0.325       0.685\n",
      "ma.L1         -0.3784      0.100     -3.786      0.000      -0.574      -0.182\n",
      "sigma2         0.0014   3.24e-05     42.097      0.000       0.001       0.001\n",
      "===================================================================================\n",
      "Ljung-Box (L1) (Q):                   0.04   Jarque-Bera (JB):              3362.88\n",
      "Prob(Q):                              0.85   Prob(JB):                         0.00\n",
      "Heteroskedasticity (H):               1.14   Skew:                            -0.28\n",
      "Prob(H) (two-sided):                  0.37   Kurtosis:                        15.01\n",
      "===================================================================================\n",
      "\n",
      "Warnings:\n",
      "[1] Covariance matrix calculated using the outer product of gradients (complex-step).\n"
     ]
    }
   ],
   "source": [
    "from statsmodels.tsa.arima.model import ARIMA\n",
    "arma11_beme = ARIMA(beme['ret'], order=(1, 0, 1)).fit()\n",
    "print(arma11_beme.summary())"
   ]
  },
  {
   "cell_type": "markdown",
   "id": "f844d32f-29e7-4876-a7ca-e61ee79989f5",
   "metadata": {},
   "source": [
    "# ARMA(1,1)"
   ]
  },
  {
   "cell_type": "code",
   "execution_count": 24,
   "id": "2963b2e8-5245-4d89-8919-c5ae5a834e09",
   "metadata": {},
   "outputs": [
    {
     "data": {
      "text/plain": [
       "array([nan, nan, nan])"
      ]
     },
     "execution_count": 24,
     "metadata": {},
     "output_type": "execute_result"
    }
   ],
   "source": [
    "beme['lagged_errors'] = lagged_errors\n",
    "beme['ones'] = 1\n",
    "\n",
    "#setup regression with matrices and 2 xploatory variables\n",
    "ya = beme['ret']\n",
    "x_arma11 = beme[['ones', 'lagged_1', 'lagged_errors']] # setup matrix with two xplnatory variables\n",
    "xa_transpose = x_arma11.T\n",
    "xatranspose_xa = xa_transpose.dot(x_arma11)\n",
    "inv_xat_xa = np.linalg.inv(xatranspose_xa)\n",
    "result = inv_xat_xa.dot(xa_transpose)\n",
    "xa_y = result.dot(ya)\n",
    "\n",
    "xa_y\n"
   ]
  },
  {
   "cell_type": "code",
   "execution_count": 25,
   "id": "cb172954-9d43-4b10-8a02-4bbb5114a6ce",
   "metadata": {},
   "outputs": [
    {
     "name": "stdout",
     "output_type": "stream",
     "text": [
      "ARMA(1,1) Intercept: 0.0018140795710090783\n",
      "ARMA(1,1) AR Coefficient: 0.06439177640414757\n",
      "ARMA(1,1) MA Coefficient: 0.06438826846712302\n"
     ]
    }
   ],
   "source": [
    "#Set up ARMA(1,1) \n",
    "beme['lagged_errors'] = error_terms.shift(1)\n",
    "beme['ones'] = 1\n",
    "ya = beme['ret'][1:]\n",
    "x_arma11 = beme[['ones', 'lagged_1', 'lagged_errors']].iloc[1:, :]\n",
    "betas = np.linalg.lstsq(x_arma11, ya, rcond=None)[0]\n",
    "\n",
    "\n",
    "print(f\"ARMA(1,1) Intercept: {betas[0]}\")\n",
    "print(f\"ARMA(1,1) AR Coefficient: {betas[1]}\")\n",
    "print(f\"ARMA(1,1) MA Coefficient: {betas[2]}\")"
   ]
  },
  {
   "cell_type": "code",
   "execution_count": 26,
   "id": "fac7fcd4-986d-469f-9617-7f01ea712d52",
   "metadata": {},
   "outputs": [
    {
     "name": "stdout",
     "output_type": "stream",
     "text": [
      "Results for beme:\n",
      "ARMA(1,1) Intercept: 0.0018190713803765818\n",
      "ARMA(1,1) AR Coefficient: 0.06439185174598172\n",
      "ARMA(1,1) MA Coefficient: 0.06438819312528901\n",
      "\n",
      "\n",
      "Results for vol:\n",
      "ARMA(1,1) Intercept: 0.003087746400664839\n",
      "ARMA(1,1) AR Coefficient: 0.031125848014162204\n",
      "ARMA(1,1) MA Coefficient: 0.0311164831812902\n",
      "\n",
      "\n",
      "Results for me:\n",
      "ARMA(1,1) Intercept: 0.0006662456009389425\n",
      "ARMA(1,1) AR Coefficient: 0.03630523523827017\n",
      "ARMA(1,1) MA Coefficient: 0.036304618485048755\n",
      "\n",
      "\n",
      "Results for mom:\n",
      "ARMA(1,1) Intercept: 0.00262855585911269\n",
      "ARMA(1,1) AR Coefficient: 0.01946864847439837\n",
      "ARMA(1,1) MA Coefficient: 0.01946217889836161\n",
      "\n",
      "\n",
      "Results for qmj:\n",
      "ARMA(1,1) Intercept: 0.0025907526661973655\n",
      "ARMA(1,1) AR Coefficient: 0.05321587351766346\n",
      "ARMA(1,1) MA Coefficient: 0.05320925083065089\n",
      "\n",
      "\n",
      "Results for op_me:\n",
      "ARMA(1,1) Intercept: 0.003930304522714602\n",
      "ARMA(1,1) AR Coefficient: 0.07127268045612069\n",
      "ARMA(1,1) MA Coefficient: 0.07125634495049082\n",
      "\n",
      "\n"
     ]
    }
   ],
   "source": [
    "def compute_arma11_for_dataframes(dataframes):\n",
    "    results = {}\n",
    "    for df_name, df in dataframes.items():\n",
    "        # Compute white noise error terms\n",
    "        meanret = df['ret'].mean()\n",
    "        error_terms = df['ret'] - meanret\n",
    "        \n",
    "        # Set up ARMA(1,1)\n",
    "        df['lagged_1'] = df['ret'].shift(1)\n",
    "        df['lagged_errors'] = error_terms.shift(1)\n",
    "        df['ones'] = 1\n",
    "        \n",
    "        ya = df['ret'][1:]\n",
    "        x_arma11 = df[['ones', 'lagged_1', 'lagged_errors']].iloc[1:, :]\n",
    "        betas = np.linalg.lstsq(x_arma11, ya, rcond=None)[0]\n",
    "        \n",
    "        results[df_name] = {\n",
    "            \"ARMA(1,1) Intercept\": betas[0],\n",
    "            \"ARMA(1,1) AR Coefficient\": betas[1],\n",
    "            \"ARMA(1,1) MA Coefficient\": betas[2]\n",
    "        }\n",
    "    \n",
    "    return results\n",
    "\n",
    "dataframes = {\n",
    "    \"beme\": beme,\n",
    "    \"vol\": vol,\n",
    "    \"me\": me,\n",
    "    \"mom\": mom,\n",
    "    \"qmj\": qmj,\n",
    "    \"op_me\": op_me\n",
    "}\n",
    "\n",
    "results = compute_arma11_for_dataframes(dataframes)\n",
    "\n",
    "for df_name, coef in results.items():\n",
    "    print(f\"Results for {df_name}:\")\n",
    "    for key, value in coef.items():\n",
    "        print(f\"{key}: {value}\")\n",
    "    print(\"\\n\")\n"
   ]
  },
  {
   "cell_type": "markdown",
   "id": "ddfeab58-f457-4075-82b3-f72aa288417d",
   "metadata": {},
   "source": [
    "#"
   ]
  },
  {
   "cell_type": "markdown",
   "id": "665b0620-b4a0-4a20-b243-c56a176ff503",
   "metadata": {},
   "source": [
    "# b) Using exact MLE assuming gaussian model "
   ]
  },
  {
   "cell_type": "code",
   "execution_count": 27,
   "id": "cfd34622-9fa7-4b73-8151-a321d6352c4e",
   "metadata": {},
   "outputs": [
    {
     "name": "stdout",
     "output_type": "stream",
     "text": [
      "Log-Likelihood: 1045.9302854542889\n"
     ]
    }
   ],
   "source": [
    "from statsmodels.tsa.ar_model import AutoReg\n",
    "\n",
    "model = AutoReg(beme['ret'], lags=1, old_names=False).fit()\n",
    "log_likelihood = model.llf\n",
    "print(f\"Log-Likelihood: {log_likelihood}\")"
   ]
  },
  {
   "cell_type": "markdown",
   "id": "01e645fe-c102-4bd2-a758-bf2d154ad60c",
   "metadata": {},
   "source": [
    "# ARMA(1, 0)"
   ]
  },
  {
   "cell_type": "code",
   "execution_count": 28,
   "id": "b2a291a3-9471-488e-87df-984d69b4e171",
   "metadata": {},
   "outputs": [],
   "source": [
    "# for the gaussian model, the error follows a normal distribution"
   ]
  },
  {
   "cell_type": "code",
   "execution_count": 29,
   "id": "57f9d754-4106-4d82-a000-9c1ec9a5da05",
   "metadata": {},
   "outputs": [
    {
     "name": "stdout",
     "output_type": "stream",
     "text": [
      "Optimized constant: 0.0017712992078026705\n",
      "Optimized ar(1) parameter: 0.1288264118305333\n",
      "Optimized sigma2: 0.0013697163411915685\n"
     ]
    }
   ],
   "source": [
    "# optimization of c, ar1 and var\n",
    "from scipy.optimize import minimize\n",
    "\n",
    "def neg_log_likelihood(params, data):\n",
    "    c, phi, sigma2 = params\n",
    "    T = len(data)\n",
    "    \n",
    "    unconditional_mu = c / (1 - phi)    # Compute unconditional mu and sigma2 for the first data point\n",
    "    unconditional_sigma2 = sigma2 / (1 - phi**2)\n",
    "    \n",
    "    logL = -0.5 * (np.log(2*np.pi*unconditional_sigma2) + (data.iloc[0] - unconditional_mu)**2 / unconditional_sigma2) # fist data point\n",
    "    \n",
    "    for t in range(1, T): # Loop through data for the remaining log-likelihood values\n",
    "        mu = c + phi * data.iloc[t-1]\n",
    "        logL += -0.5 * (np.log(2*np.pi*sigma2) + (data.iloc[t] - mu)**2 / sigma2)\n",
    "    \n",
    "    return -logL\n",
    "\n",
    "init_params = [0, 0, 0.01] #inital guess\n",
    "result = minimize(neg_log_likelihood, init_params, args=(beme['ret']), method='L-BFGS-B', bounds = [(-0.99, 0.99), (-0.99, 0.99), (0.001, 5)]) # optimm\n",
    "c_opt, phi_opt, sigma2_opt = result.x # optim params\n",
    "\n",
    "print(f\"Optimized constant: {c_opt}\")\n",
    "print(f\"Optimized ar(1) parameter: {phi_opt}\")\n",
    "print(f\"Optimized sigma2: {sigma2_opt}\")"
   ]
  },
  {
   "cell_type": "code",
   "execution_count": 30,
   "id": "56e616eb-7762-4779-97e5-5edfa5f43721",
   "metadata": {},
   "outputs": [
    {
     "data": {
      "text/plain": [
       "      fun: -1047.7128778143513\n",
       " hess_inv: <3x3 LbfgsInvHessProduct with dtype=float64>\n",
       "      jac: array([-0.00352429,  0.00070486,  0.48651145])\n",
       "  message: 'CONVERGENCE: REL_REDUCTION_OF_F_<=_FACTR*EPSMCH'\n",
       "     nfev: 128\n",
       "      nit: 22\n",
       "     njev: 32\n",
       "   status: 0\n",
       "  success: True\n",
       "        x: array([0.0017713 , 0.12882641, 0.00136972])"
      ]
     },
     "execution_count": 30,
     "metadata": {},
     "output_type": "execute_result"
    }
   ],
   "source": [
    "result"
   ]
  },
  {
   "cell_type": "code",
   "execution_count": 31,
   "id": "0a0a06ca-cde9-4cca-95ab-3124d37edbef",
   "metadata": {},
   "outputs": [
    {
     "name": "stdout",
     "output_type": "stream",
     "text": [
      "Results for vol:\n",
      "Optimized constant: 0.0028402424433440995\n",
      "Optimized ar(1) parameter: 0.062368215031396626\n",
      "Optimized sigma2: 0.0031057279025415367\n",
      "\n",
      "Results for me:\n",
      "Optimized constant: 0.0008731244451649421\n",
      "Optimized ar(1) parameter: 0.07510809617822012\n",
      "Optimized sigma2: 0.001\n",
      "\n",
      "Results for mom:\n",
      "Optimized constant: 0.002354533793600334\n",
      "Optimized ar(1) parameter: 0.04025206865703028\n",
      "Optimized sigma2: 0.001\n",
      "\n",
      "Results for qmj:\n",
      "Optimized constant: 0.002257003273724504\n",
      "Optimized ar(1) parameter: 0.10993422052029482\n",
      "Optimized sigma2: 0.001\n",
      "\n",
      "Results for op_me:\n",
      "Optimized constant: 0.0035547472651974205\n",
      "Optimized ar(1) parameter: 0.14269117389154987\n",
      "Optimized sigma2: 0.001\n",
      "\n"
     ]
    }
   ],
   "source": [
    "# run for all df's \n",
    "def run_optimization_for_dataframes(dfs, df_names):\n",
    "    init_params = [0, 0, 0.01]\n",
    "    \n",
    "    for df, name in zip(dfs, df_names):\n",
    "        result = minimize(neg_log_likelihood, init_params, args=(df['ret']), method='L-BFGS-B', bounds = [(-0.99, 0.99), (-0.99, 0.99), (0.001, 5)])\n",
    "        c_opt, phi_opt, sigma2_opt = result.x\n",
    "        print(f\"Results for {name}:\")\n",
    "        print(f\"Optimized constant: {c_opt}\")\n",
    "        print(f\"Optimized ar(1) parameter: {phi_opt}\")\n",
    "        print(f\"Optimized sigma2: {sigma2_opt}\\n\")\n",
    "\n",
    "dataframes = [vol, me, mom, qmj, op_me]\n",
    "names = ['vol', 'me', 'mom', 'qmj', 'op_me']  \n",
    "run_optimization_for_dataframes(dataframes, names)"
   ]
  },
  {
   "cell_type": "markdown",
   "id": "e79f7c62-654a-44fe-8034-6afbc64a2fed",
   "metadata": {},
   "source": [
    "# ARMA(2, 0)"
   ]
  },
  {
   "cell_type": "code",
   "execution_count": 32,
   "id": "df547333-f658-4b19-b8b4-fb5d111199f6",
   "metadata": {},
   "outputs": [
    {
     "name": "stdout",
     "output_type": "stream",
     "text": [
      "Optimized constant: 0.0015346792694873265\n",
      "Optimized AR(1) parameter: 0.11768615668878851\n",
      "Optimized AR(2) parameter: 0.08558106355414871\n",
      "Optimized sigma2: 0.0013607389636996813\n"
     ]
    }
   ],
   "source": [
    "# update function for ar2\n",
    "def neg_log_likelihood_ar2(params, data):\n",
    "    c, phi1, phi2, sigma2 = params\n",
    "    T = len(data)\n",
    "\n",
    "    unconditional_mu = data.mean()\n",
    "    unconditional_sigma2 = data.var()    \n",
    "    logL = 0\n",
    "    \n",
    "    for t in range(2):\n",
    "        logL += -0.5 * (np.log(2*np.pi*unconditional_sigma2) + (data.iloc[t] - unconditional_mu)**2 / unconditional_sigma2)\n",
    "    \n",
    "    for t in range(2, T):\n",
    "        mu = c + phi1 * data.iloc[t-1] + phi2 * data.iloc[t-2]\n",
    "        logL += -0.5 * (np.log(2*np.pi*sigma2) + (data.iloc[t] - mu)**2 / sigma2)\n",
    "    \n",
    "    return -logL\n",
    "\n",
    "init_params = [0, 0, 0, 0.01] # initial guess for c, ar1, ar2, sigma2\n",
    "\n",
    "bounds = [(-5, 5), (-0.99, 0.99), (-0.99, 0.99), (0.001, 5)]\n",
    "results = minimize(neg_log_likelihood_ar2, init_params, args=(beme['ret']), method='L-BFGS-B', bounds=bounds)\n",
    "\n",
    "c_opt, phi1_opt, phi2_opt, sigma2_opt = results.x\n",
    "    \n",
    "print(f\"Optimized constant: {c_opt}\")\n",
    "print(f\"Optimized AR(1) parameter: {phi1_opt}\")\n",
    "print(f\"Optimized AR(2) parameter: {phi2_opt}\")\n",
    "print(f\"Optimized sigma2: {sigma2_opt}\")"
   ]
  },
  {
   "cell_type": "code",
   "execution_count": 33,
   "id": "2fd0db93-205c-4a15-a5f3-5d6532383f56",
   "metadata": {},
   "outputs": [
    {
     "name": "stdout",
     "output_type": "stream",
     "text": [
      "Results for vol:\n",
      "Optimized constant: 0.0030899727869116637\n",
      "Optimized AR(1) parameter: 0.06233251115671781\n",
      "Optimized AR(2) parameter: -0.0191491151670037\n",
      "Optimized sigma2: 0.003102411398014575\n",
      "\n",
      "Results for me:\n",
      "Optimized constant: 0.0005771970398966982\n",
      "Optimized AR(1) parameter: 0.07035149809773467\n",
      "Optimized AR(2) parameter: 0.07530709698553693\n",
      "Optimized sigma2: 0.001\n",
      "\n",
      "Results for mom:\n",
      "Optimized constant: 0.002891025537734926\n",
      "Optimized AR(1) parameter: 0.03454554068174814\n",
      "Optimized AR(2) parameter: -0.09945111739205055\n",
      "Optimized sigma2: 0.001\n",
      "\n",
      "Results for qmj:\n",
      "Optimized constant: 0.0023548045319898145\n",
      "Optimized AR(1) parameter: 0.12812334827310126\n",
      "Optimized AR(2) parameter: -0.019526467733584747\n",
      "Optimized sigma2: 0.001\n",
      "\n",
      "Results for op_me:\n",
      "Optimized constant: 0.0038420103839418014\n",
      "Optimized AR(1) parameter: 0.15625129580111924\n",
      "Optimized AR(2) parameter: -0.07882523641578419\n",
      "Optimized sigma2: 0.001\n",
      "\n"
     ]
    }
   ],
   "source": [
    "# run for all df's \n",
    "def run_optimization_ar2_for_dataframes(dfs, df_names):\n",
    "    init_params = [0, 0, 0, 0.01]\n",
    "    bounds = [(-0.99, 0.99), (-0.99, 0.99), (-0.99, 0.99), (0.001, 5)]\n",
    "    \n",
    "    for df, name in zip(dfs, df_names):\n",
    "        results = minimize(neg_log_likelihood_ar2, init_params, args=(df['ret']), method='L-BFGS-B', bounds=bounds)\n",
    "        c_opt, phi1_opt, phi2_opt, sigma2_opt = results.x\n",
    "        \n",
    "        print(f\"Results for {name}:\")\n",
    "        print(f\"Optimized constant: {c_opt}\")\n",
    "        print(f\"Optimized AR(1) parameter: {phi1_opt}\")\n",
    "        print(f\"Optimized AR(2) parameter: {phi2_opt}\")\n",
    "        print(f\"Optimized sigma2: {sigma2_opt}\\n\")\n",
    "\n",
    "dataframes = [vol, me, mom, qmj, op_me]\n",
    "names = ['vol', 'me', 'mom', 'qmj', 'op_me']  \n",
    "run_optimization_ar2_for_dataframes(dataframes, names)"
   ]
  },
  {
   "cell_type": "code",
   "execution_count": 34,
   "id": "6c94803e-1dcc-4c54-8f88-70c7aac6309f",
   "metadata": {},
   "outputs": [
    {
     "name": "stdout",
     "output_type": "stream",
     "text": [
      "                               SARIMAX Results                                \n",
      "==============================================================================\n",
      "Dep. Variable:                    ret   No. Observations:                  576\n",
      "Model:                 ARIMA(2, 0, 0)   Log Likelihood                 845.851\n",
      "Date:                Sat, 04 Nov 2023   AIC                          -1683.702\n",
      "Time:                        00:32:43   BIC                          -1666.277\n",
      "Sample:                    01-31-1975   HQIC                         -1676.906\n",
      "                         - 12-31-2022                                         \n",
      "Covariance Type:                  opg                                         \n",
      "==============================================================================\n",
      "                 coef    std err          z      P>|z|      [0.025      0.975]\n",
      "------------------------------------------------------------------------------\n",
      "const          0.0030      0.002      1.245      0.213      -0.002       0.008\n",
      "ar.L1          0.0623      0.018      3.436      0.001       0.027       0.098\n",
      "ar.L2         -0.0192      0.019     -1.019      0.308      -0.056       0.018\n",
      "sigma2         0.0031   8.25e-05     37.637      0.000       0.003       0.003\n",
      "===================================================================================\n",
      "Ljung-Box (L1) (Q):                   0.00   Jarque-Bera (JB):              1673.84\n",
      "Prob(Q):                              1.00   Prob(JB):                         0.00\n",
      "Heteroskedasticity (H):               1.60   Skew:                            -0.03\n",
      "Prob(H) (two-sided):                  0.00   Kurtosis:                        11.35\n",
      "===================================================================================\n",
      "\n",
      "Warnings:\n",
      "[1] Covariance matrix calculated using the outer product of gradients (complex-step).\n"
     ]
    }
   ],
   "source": [
    "#check results with volatility \n",
    "volar2 = ARIMA(vol['ret'], order=(2, 0, 0)).fit()\n",
    "print(volar2.summary())"
   ]
  },
  {
   "cell_type": "markdown",
   "id": "c6f4926f-5520-4c65-9dd7-e87f0de2e1fd",
   "metadata": {},
   "source": [
    "# ARMA(0, 1)"
   ]
  },
  {
   "cell_type": "code",
   "execution_count": 35,
   "id": "0232a3d9-4668-4db2-9774-5737237a1813",
   "metadata": {},
   "outputs": [],
   "source": [
    "#consider previous function but for mooving average instead of ar\n",
    "def neg_log_likelihood_ma1(params, data):\n",
    "    c, ma1param, sigma2 = params\n",
    "    T = len(data)\n",
    "    error_terms = [0]  # Placeholder for the first error\n",
    "    \n",
    "    mu = c\n",
    "    logL = -0.5 * (np.log(2*np.pi*sigma2) + (data.iloc[0] - mu)**2 / sigma2)\n",
    "    error_terms.append(data.iloc[0] - mu)\n",
    "    \n",
    "    for t in range(1, T):\n",
    "        mu = c + ma1param * error_terms[-1]  # MA(1) process\n",
    "        logL += -0.5 * (np.log(2*np.pi*sigma2) + (data.iloc[t] - mu)**2 / sigma2)\n",
    "        error_terms.append(data.iloc[t] - mu)\n",
    "    \n",
    "    return -logL"
   ]
  },
  {
   "cell_type": "code",
   "execution_count": 36,
   "id": "563decca-b396-493f-85f5-0d7b52ce636b",
   "metadata": {},
   "outputs": [
    {
     "name": "stdout",
     "output_type": "stream",
     "text": [
      "Optimized constant: 0.0020280003502186677\n",
      "Optimized MA(1) parameter: 0.10712680300799929\n",
      "Optimized sigma2: 0.001373549364064296\n"
     ]
    }
   ],
   "source": [
    "#now optimize as before\n",
    "init_params = [0, 0, 0.01]\n",
    "\n",
    "bounds = [(-5, 5), (-0.99, 0.99), (0.001, 5)]\n",
    "result = minimize(neg_log_likelihood_ma1, init_params, args=(beme['ret']), method='L-BFGS-B', bounds=bounds)\n",
    "\n",
    "c_opt, ma1param_opt, sigma2_opt = result.x\n",
    "\n",
    "print(f\"Optimized constant: {c_opt}\")\n",
    "print(f\"Optimized MA(1) parameter: {ma1param_opt}\")\n",
    "print(f\"Optimized sigma2: {sigma2_opt}\")\n"
   ]
  },
  {
   "cell_type": "code",
   "execution_count": 37,
   "id": "fbaed010-e4c8-4538-a76d-cfc80b91f057",
   "metadata": {},
   "outputs": [
    {
     "name": "stdout",
     "output_type": "stream",
     "text": [
      "Results for vol:\n",
      "Optimized constant: 0.0030283202969779623\n",
      "Optimized MA(1) parameter: 0.06378958803293343\n",
      "Optimized sigma2: 0.0031056405915308683\n",
      "\n",
      "Results for me:\n",
      "Optimized constant: 0.0009411224688373293\n",
      "Optimized MA(1) parameter: 0.062007646171491966\n",
      "Optimized sigma2: 0.001\n",
      "\n",
      "Results for mom:\n",
      "Optimized constant: 0.0024517960027634123\n",
      "Optimized MA(1) parameter: 0.04880079756234501\n",
      "Optimized sigma2: 0.001\n",
      "\n",
      "Results for qmj:\n",
      "Optimized constant: 0.002534257043501968\n",
      "Optimized MA(1) parameter: 0.1102453076064967\n",
      "Optimized sigma2: 0.001\n",
      "\n",
      "Results for op_me:\n",
      "Optimized constant: 0.0041418362104719475\n",
      "Optimized MA(1) parameter: 0.15508356001422086\n",
      "Optimized sigma2: 0.001\n",
      "\n"
     ]
    }
   ],
   "source": [
    "# run for all func\n",
    "def run_optimization_ma1_for_dataframes(dfs, df_names):\n",
    "    init_params = [0, 0, 0.01]\n",
    "    bounds = [(-0.99, 0.99), (-0.99, 0.99), (0.001, 5)]\n",
    "    \n",
    "    for df, name in zip(dfs, df_names):\n",
    "        result = minimize(neg_log_likelihood_ma1, init_params, args=(df['ret']), method='L-BFGS-B', bounds=bounds)\n",
    "        c_opt, ma1param_opt, sigma2_opt = result.x\n",
    "        \n",
    "        print(f\"Results for {name}:\")\n",
    "        print(f\"Optimized constant: {c_opt}\")\n",
    "        print(f\"Optimized MA(1) parameter: {ma1param_opt}\")\n",
    "        print(f\"Optimized sigma2: {sigma2_opt}\\n\")\n",
    "\n",
    "dataframes = [vol, me, mom, qmj, op_me]\n",
    "names = ['vol', 'me', 'mom', 'qmj', 'op_me']  \n",
    "run_optimization_ma1_for_dataframes(dataframes, names)"
   ]
  },
  {
   "cell_type": "code",
   "execution_count": 38,
   "id": "904a3009-3e94-45c7-83ba-87b39108fccf",
   "metadata": {},
   "outputs": [
    {
     "name": "stdout",
     "output_type": "stream",
     "text": [
      "                               SARIMAX Results                                \n",
      "==============================================================================\n",
      "Dep. Variable:                    ret   No. Observations:                  576\n",
      "Model:                 ARIMA(0, 0, 1)   Log Likelihood                1395.581\n",
      "Date:                Sat, 04 Nov 2023   AIC                          -2785.162\n",
      "Time:                        00:32:47   BIC                          -2772.094\n",
      "Sample:                    01-31-1975   HQIC                         -2780.066\n",
      "                         - 12-31-2022                                         \n",
      "Covariance Type:                  opg                                         \n",
      "==============================================================================\n",
      "                 coef    std err          z      P>|z|      [0.025      0.975]\n",
      "------------------------------------------------------------------------------\n",
      "const          0.0025      0.001      2.506      0.012       0.001       0.005\n",
      "ma.L1          0.1150      0.031      3.715      0.000       0.054       0.176\n",
      "sigma2         0.0005   1.64e-05     28.107      0.000       0.000       0.000\n",
      "===================================================================================\n",
      "Ljung-Box (L1) (Q):                   0.02   Jarque-Bera (JB):               379.70\n",
      "Prob(Q):                              0.89   Prob(JB):                         0.00\n",
      "Heteroskedasticity (H):               1.95   Skew:                            -0.40\n",
      "Prob(H) (two-sided):                  0.00   Kurtosis:                         6.90\n",
      "===================================================================================\n",
      "\n",
      "Warnings:\n",
      "[1] Covariance matrix calculated using the outer product of gradients (complex-step).\n"
     ]
    }
   ],
   "source": [
    "#test with qmj\n",
    "qmjma1 = ARIMA(qmj['ret'], order=(0, 0, 1)).fit()\n",
    "print(qmjma1.summary())"
   ]
  },
  {
   "cell_type": "markdown",
   "id": "6c72f861-a97a-4932-86aa-e31bd298c077",
   "metadata": {},
   "source": [
    "# ARMA(1, 1)"
   ]
  },
  {
   "cell_type": "code",
   "execution_count": 39,
   "id": "963bd881-ae4e-4886-9392-c5ce0d1c1007",
   "metadata": {},
   "outputs": [
    {
     "name": "stdout",
     "output_type": "stream",
     "text": [
      "                               SARIMAX Results                                \n",
      "==============================================================================\n",
      "Dep. Variable:                    ret   No. Observations:                  558\n",
      "Model:                 ARIMA(1, 0, 1)   Log Likelihood                1048.984\n",
      "Date:                Sat, 04 Nov 2023   AIC                          -2089.969\n",
      "Time:                        00:32:47   BIC                          -2072.671\n",
      "Sample:                    07-31-1975   HQIC                         -2083.213\n",
      "                         - 12-31-2021                                         \n",
      "Covariance Type:                  opg                                         \n",
      "==============================================================================\n",
      "                 coef    std err          z      P>|z|      [0.025      0.975]\n",
      "------------------------------------------------------------------------------\n",
      "const          0.0020      0.002      0.967      0.333      -0.002       0.006\n",
      "ar.L1          0.5050      0.092      5.505      0.000       0.325       0.685\n",
      "ma.L1         -0.3784      0.100     -3.786      0.000      -0.574      -0.182\n",
      "sigma2         0.0014   3.24e-05     42.097      0.000       0.001       0.001\n",
      "===================================================================================\n",
      "Ljung-Box (L1) (Q):                   0.04   Jarque-Bera (JB):              3362.88\n",
      "Prob(Q):                              0.85   Prob(JB):                         0.00\n",
      "Heteroskedasticity (H):               1.14   Skew:                            -0.28\n",
      "Prob(H) (two-sided):                  0.37   Kurtosis:                        15.01\n",
      "===================================================================================\n",
      "\n",
      "Warnings:\n",
      "[1] Covariance matrix calculated using the outer product of gradients (complex-step).\n"
     ]
    }
   ],
   "source": [
    "print(arma11_beme.summary())"
   ]
  },
  {
   "cell_type": "code",
   "execution_count": 40,
   "id": "34be0296-34b3-4dc2-bebe-82fc7aa1f9d8",
   "metadata": {},
   "outputs": [
    {
     "name": "stdout",
     "output_type": "stream",
     "text": [
      "Optimized constant: 0.0009942730661287509\n",
      "Optimized AR(1) coefficient: 0.5023091955131919\n",
      "Optimized MA(1) coefficient: -0.3755364070573141\n",
      "Optimized sigma2: 0.0013636809824242567\n"
     ]
    }
   ],
   "source": [
    "#setup function for arma(11)\n",
    "def neg_log_likelihood_arma(params, data):\n",
    "    c, ar1_param, ma1_param, sigma2 = params\n",
    "    T = len(data)\n",
    "    error_terms = [0]  # Start with an initial error term\n",
    "    \n",
    "    mu = c\n",
    "    logL = -0.5 * (np.log(2*np.pi*sigma2) + (data.iloc[0] - mu)**2 / sigma2)\n",
    "    error_terms.append(data.iloc[0] - mu)\n",
    "    \n",
    "    for t in range(1, T):\n",
    "        mu = c + ar1_param * data.iloc[t-1] + ma1_param * error_terms[-1]  # ARMA(1, 1) process\n",
    "        logL += -0.5 * (np.log(2*np.pi*sigma2) + (data.iloc[t] - mu)**2 / sigma2)\n",
    "        error_terms.append(data.iloc[t] - mu)\n",
    "    \n",
    "    return -logL\n",
    "\n",
    "# Using values from previous findings in ar(1) and ma(1) as best guesses\n",
    "init_params = [0.0017, 0.13, 0.11, 0.0014]\n",
    "\n",
    "bounds = [(-5, 5), (-0.99, 0.99), (-0.99, 0.99), (0.001, 5)]\n",
    "result = minimize(neg_log_likelihood_arma, init_params, args=(beme['ret']), method='L-BFGS-B', bounds=bounds)\n",
    "\n",
    "c_opt, ar1param_opt, ma1param_opt, sigma2_opt = result.x\n",
    "\n",
    "print(f\"Optimized constant: {c_opt}\")\n",
    "print(f\"Optimized AR(1) coefficient: {ar1param_opt}\")\n",
    "print(f\"Optimized MA(1) coefficient: {ma1param_opt}\")\n",
    "print(f\"Optimized sigma2: {sigma2_opt}\")"
   ]
  },
  {
   "cell_type": "code",
   "execution_count": 41,
   "id": "93ee64a5-4feb-4f08-8ec8-88ab92e86fc7",
   "metadata": {},
   "outputs": [
    {
     "name": "stdout",
     "output_type": "stream",
     "text": [
      "Results for vol:\n",
      "Optimized constant: 0.00293689405784204\n",
      "Optimized AR(1) coefficient: 0.031647925363676103\n",
      "Optimized MA(1) coefficient: 0.0317257903209955\n",
      "Optimized sigma2: 0.0031055569898132207\n",
      "\n",
      "Results for me:\n",
      "Optimized constant: 0.0005729796106505116\n",
      "Optimized AR(1) coefficient: 0.3331263183943099\n",
      "Optimized MA(1) coefficient: -0.25523014652496934\n",
      "Optimized sigma2: 0.001\n",
      "\n",
      "Results for mom:\n",
      "Optimized constant: 0.00342546327417417\n",
      "Optimized AR(1) coefficient: -0.3923386793442868\n",
      "Optimized MA(1) coefficient: 0.4181943153056721\n",
      "Optimized sigma2: 0.001\n",
      "\n",
      "Results for qmj:\n",
      "Optimized constant: 0.0026700813047963574\n",
      "Optimized AR(1) coefficient: -0.05909478903106739\n",
      "Optimized MA(1) coefficient: 0.16937276606334717\n",
      "Optimized sigma2: 0.001\n",
      "\n",
      "Results for op_me:\n",
      "Optimized constant: 0.004296112167771647\n",
      "Optimized AR(1) coefficient: -0.03827663603128974\n",
      "Optimized MA(1) coefficient: 0.1909920635891863\n",
      "Optimized sigma2: 0.001\n",
      "\n"
     ]
    }
   ],
   "source": [
    "# run for all func\n",
    "def run_optimization_arma_for_dataframes(dfs, df_names):\n",
    "    init_params = [0, 0, 0, 0.01]\n",
    "    bounds = [(-0.99, 0.99), (-0.99, 0.99), (-0.99, 0.99), (0.001, 5)]\n",
    "    \n",
    "    for df, name in zip(dfs, df_names):\n",
    "        result = minimize(neg_log_likelihood_arma, init_params, args=(df['ret']), method='L-BFGS-B', bounds=bounds)\n",
    "        c_opt, ar1param_opt, ma1param_opt, sigma2_opt = result.x\n",
    "        \n",
    "        print(f\"Results for {name}:\")\n",
    "        print(f\"Optimized constant: {c_opt}\")\n",
    "        print(f\"Optimized AR(1) coefficient: {ar1param_opt}\")\n",
    "        print(f\"Optimized MA(1) coefficient: {ma1param_opt}\")\n",
    "        print(f\"Optimized sigma2: {sigma2_opt}\\n\")\n",
    "\n",
    "\n",
    "\n",
    "dataframes = [vol, me, mom, qmj, op_me]\n",
    "names = ['vol', 'me', 'mom', 'qmj', 'op_me']  \n",
    "run_optimization_arma_for_dataframes(dataframes, names)"
   ]
  },
  {
   "cell_type": "code",
   "execution_count": 42,
   "id": "29f4c5d9-b524-4bf0-b108-af6be84cf907",
   "metadata": {},
   "outputs": [
    {
     "name": "stdout",
     "output_type": "stream",
     "text": [
      "                               SARIMAX Results                                \n",
      "==============================================================================\n",
      "Dep. Variable:                    ret   No. Observations:                  576\n",
      "Model:                 ARIMA(1, 0, 1)   Log Likelihood                1227.990\n",
      "Date:                Sat, 04 Nov 2023   AIC                          -2447.981\n",
      "Time:                        00:32:56   BIC                          -2430.556\n",
      "Sample:                    01-31-1975   HQIC                         -2441.185\n",
      "                         - 12-31-2022                                         \n",
      "Covariance Type:                  opg                                         \n",
      "==============================================================================\n",
      "                 coef    std err          z      P>|z|      [0.025      0.975]\n",
      "------------------------------------------------------------------------------\n",
      "const          0.0009      0.001      0.658      0.511      -0.002       0.004\n",
      "ar.L1          0.3458      0.445      0.776      0.438      -0.527       1.219\n",
      "ma.L1         -0.2654      0.462     -0.575      0.565      -1.170       0.639\n",
      "sigma2         0.0008   3.48e-05     23.687      0.000       0.001       0.001\n",
      "===================================================================================\n",
      "Ljung-Box (L1) (Q):                   0.08   Jarque-Bera (JB):               243.85\n",
      "Prob(Q):                              0.77   Prob(JB):                         0.00\n",
      "Heteroskedasticity (H):               1.02   Skew:                             0.76\n",
      "Prob(H) (two-sided):                  0.88   Kurtosis:                         5.80\n",
      "===================================================================================\n",
      "\n",
      "Warnings:\n",
      "[1] Covariance matrix calculated using the outer product of gradients (complex-step).\n"
     ]
    }
   ],
   "source": [
    "#test with momentum\n",
    "mearma11 = ARIMA(me['ret'], order=(1, 0, 1)).fit()\n",
    "print(mearma11.summary())"
   ]
  },
  {
   "cell_type": "markdown",
   "id": "5e986702-1d23-4c5d-ba39-a4a630ab8319",
   "metadata": {},
   "source": [
    "#"
   ]
  },
  {
   "cell_type": "markdown",
   "id": "7f967280-b8a0-4e44-88b8-5e8cdfe115e9",
   "metadata": {},
   "source": [
    "#"
   ]
  },
  {
   "cell_type": "markdown",
   "id": "26838cf3-fd0e-457f-a6f8-f4da4255ea33",
   "metadata": {},
   "source": [
    "# Part 2: PhD Problem, Wall Street Journal"
   ]
  },
  {
   "cell_type": "code",
   "execution_count": 43,
   "id": "23500279-34d0-4d6c-bec2-94dbda734534",
   "metadata": {},
   "outputs": [
    {
     "data": {
      "text/html": [
       "<div>\n",
       "<style scoped>\n",
       "    .dataframe tbody tr th:only-of-type {\n",
       "        vertical-align: middle;\n",
       "    }\n",
       "\n",
       "    .dataframe tbody tr th {\n",
       "        vertical-align: top;\n",
       "    }\n",
       "\n",
       "    .dataframe thead th {\n",
       "        text-align: right;\n",
       "    }\n",
       "</style>\n",
       "<table border=\"1\" class=\"dataframe\">\n",
       "  <thead>\n",
       "    <tr style=\"text-align: right;\">\n",
       "      <th></th>\n",
       "      <th>bubble</th>\n",
       "      <th>climate change</th>\n",
       "      <th>china</th>\n",
       "    </tr>\n",
       "    <tr>\n",
       "      <th>date</th>\n",
       "      <th></th>\n",
       "      <th></th>\n",
       "      <th></th>\n",
       "    </tr>\n",
       "  </thead>\n",
       "  <tbody>\n",
       "    <tr>\n",
       "      <th>1/1/84</th>\n",
       "      <td>4</td>\n",
       "      <td>0</td>\n",
       "      <td>304</td>\n",
       "    </tr>\n",
       "    <tr>\n",
       "      <th>2/1/84</th>\n",
       "      <td>1</td>\n",
       "      <td>0</td>\n",
       "      <td>271</td>\n",
       "    </tr>\n",
       "    <tr>\n",
       "      <th>3/1/84</th>\n",
       "      <td>5</td>\n",
       "      <td>0</td>\n",
       "      <td>180</td>\n",
       "    </tr>\n",
       "    <tr>\n",
       "      <th>4/1/84</th>\n",
       "      <td>5</td>\n",
       "      <td>0</td>\n",
       "      <td>295</td>\n",
       "    </tr>\n",
       "    <tr>\n",
       "      <th>5/1/84</th>\n",
       "      <td>9</td>\n",
       "      <td>0</td>\n",
       "      <td>278</td>\n",
       "    </tr>\n",
       "    <tr>\n",
       "      <th>...</th>\n",
       "      <td>...</td>\n",
       "      <td>...</td>\n",
       "      <td>...</td>\n",
       "    </tr>\n",
       "    <tr>\n",
       "      <th>2/1/17</th>\n",
       "      <td>29</td>\n",
       "      <td>28</td>\n",
       "      <td>555</td>\n",
       "    </tr>\n",
       "    <tr>\n",
       "      <th>3/1/17</th>\n",
       "      <td>23</td>\n",
       "      <td>23</td>\n",
       "      <td>744</td>\n",
       "    </tr>\n",
       "    <tr>\n",
       "      <th>4/1/17</th>\n",
       "      <td>22</td>\n",
       "      <td>14</td>\n",
       "      <td>768</td>\n",
       "    </tr>\n",
       "    <tr>\n",
       "      <th>5/1/17</th>\n",
       "      <td>20</td>\n",
       "      <td>26</td>\n",
       "      <td>765</td>\n",
       "    </tr>\n",
       "    <tr>\n",
       "      <th>6/1/17</th>\n",
       "      <td>21</td>\n",
       "      <td>46</td>\n",
       "      <td>857</td>\n",
       "    </tr>\n",
       "  </tbody>\n",
       "</table>\n",
       "<p>402 rows × 3 columns</p>\n",
       "</div>"
      ],
      "text/plain": [
       "        bubble  climate change  china\n",
       "date                                 \n",
       "1/1/84       4               0    304\n",
       "2/1/84       1               0    271\n",
       "3/1/84       5               0    180\n",
       "4/1/84       5               0    295\n",
       "5/1/84       9               0    278\n",
       "...        ...             ...    ...\n",
       "2/1/17      29              28    555\n",
       "3/1/17      23              23    744\n",
       "4/1/17      22              14    768\n",
       "5/1/17      20              26    765\n",
       "6/1/17      21              46    857\n",
       "\n",
       "[402 rows x 3 columns]"
      ]
     },
     "execution_count": 43,
     "metadata": {},
     "output_type": "execute_result"
    }
   ],
   "source": [
    "wsj = pd.read_csv('C:/jibrile/Downloads/wsj-counts.csv')\n",
    "wsj = pd.DataFrame(wsj.set_index('date'))\n",
    "wsj"
   ]
  },
  {
   "cell_type": "code",
   "execution_count": 44,
   "id": "3fd13362-4200-4c20-a5b5-b495bc8b0fbf",
   "metadata": {},
   "outputs": [
    {
     "name": "stderr",
     "output_type": "stream",
     "text": [
      "C:\\Users\\urkes\\anaconda3\\lib\\site-packages\\statsmodels\\tsa\\base\\tsa_model.py:473: ValueWarning: No frequency information was provided, so inferred frequency MS will be used.\n",
      "  self._init_dates(dates, freq)\n",
      "C:\\Users\\urkes\\anaconda3\\lib\\site-packages\\statsmodels\\tsa\\base\\tsa_model.py:473: ValueWarning: No frequency information was provided, so inferred frequency MS will be used.\n",
      "  self._init_dates(dates, freq)\n",
      "C:\\Users\\urkes\\anaconda3\\lib\\site-packages\\statsmodels\\tsa\\base\\tsa_model.py:473: ValueWarning: No frequency information was provided, so inferred frequency MS will be used.\n",
      "  self._init_dates(dates, freq)\n",
      "C:\\Users\\urkes\\anaconda3\\lib\\site-packages\\statsmodels\\tsa\\base\\tsa_model.py:473: ValueWarning: No frequency information was provided, so inferred frequency MS will be used.\n",
      "  self._init_dates(dates, freq)\n",
      "C:\\Users\\urkes\\anaconda3\\lib\\site-packages\\statsmodels\\tsa\\base\\tsa_model.py:473: ValueWarning: No frequency information was provided, so inferred frequency MS will be used.\n",
      "  self._init_dates(dates, freq)\n",
      "C:\\Users\\urkes\\anaconda3\\lib\\site-packages\\statsmodels\\tsa\\base\\tsa_model.py:473: ValueWarning: No frequency information was provided, so inferred frequency MS will be used.\n",
      "  self._init_dates(dates, freq)\n",
      "C:\\Users\\urkes\\anaconda3\\lib\\site-packages\\statsmodels\\tsa\\base\\tsa_model.py:473: ValueWarning: No frequency information was provided, so inferred frequency MS will be used.\n",
      "  self._init_dates(dates, freq)\n"
     ]
    },
    {
     "name": "stdout",
     "output_type": "stream",
     "text": [
      "                               SARIMAX Results                                \n",
      "==============================================================================\n",
      "Dep. Variable:                  china   No. Observations:                  402\n",
      "Model:                 ARIMA(1, 0, 0)   Log Likelihood               -2632.806\n",
      "Date:                Sat, 04 Nov 2023   AIC                           5271.613\n",
      "Time:                        00:32:56   BIC                           5283.602\n",
      "Sample:                    01-01-1984   HQIC                          5276.360\n",
      "                         - 06-01-2017                                         \n",
      "Covariance Type:                  opg                                         \n",
      "==============================================================================\n",
      "                 coef    std err          z      P>|z|      [0.025      0.975]\n",
      "------------------------------------------------------------------------------\n",
      "const        604.5522     96.673      6.254      0.000     415.076     794.029\n",
      "ar.L1          0.8872      0.026     33.669      0.000       0.836       0.939\n",
      "sigma2       2.85e+04   1372.435     20.765      0.000    2.58e+04    3.12e+04\n",
      "===================================================================================\n",
      "Ljung-Box (L1) (Q):                  27.46   Jarque-Bera (JB):               199.09\n",
      "Prob(Q):                              0.00   Prob(JB):                         0.00\n",
      "Heteroskedasticity (H):               2.77   Skew:                             0.67\n",
      "Prob(H) (two-sided):                  0.00   Kurtosis:                         6.18\n",
      "===================================================================================\n",
      "\n",
      "Warnings:\n",
      "[1] Covariance matrix calculated using the outer product of gradients (complex-step).\n",
      "                               SARIMAX Results                                \n",
      "==============================================================================\n",
      "Dep. Variable:                 bubble   No. Observations:                  402\n",
      "Model:                 ARIMA(1, 0, 0)   Log Likelihood               -1653.855\n",
      "Date:                Sat, 04 Nov 2023   AIC                           3313.711\n",
      "Time:                        00:32:56   BIC                           3325.700\n",
      "Sample:                    01-01-1984   HQIC                          3318.458\n",
      "                         - 06-01-2017                                         \n",
      "Covariance Type:                  opg                                         \n",
      "==============================================================================\n",
      "                 coef    std err          z      P>|z|      [0.025      0.975]\n",
      "------------------------------------------------------------------------------\n",
      "const         26.6996      4.501      5.932      0.000      17.878      35.521\n",
      "ar.L1          0.7493      0.031     24.245      0.000       0.689       0.810\n",
      "sigma2       218.8031     10.975     19.937      0.000     197.293     240.314\n",
      "===================================================================================\n",
      "Ljung-Box (L1) (Q):                  34.03   Jarque-Bera (JB):               391.01\n",
      "Prob(Q):                              0.00   Prob(JB):                         0.00\n",
      "Heteroskedasticity (H):               5.36   Skew:                             1.24\n",
      "Prob(H) (two-sided):                  0.00   Kurtosis:                         7.15\n",
      "===================================================================================\n",
      "\n",
      "Warnings:\n",
      "[1] Covariance matrix calculated using the outer product of gradients (complex-step).\n",
      "                               SARIMAX Results                                \n",
      "==============================================================================\n",
      "Dep. Variable:         climate change   No. Observations:                  402\n",
      "Model:                 ARIMA(1, 0, 0)   Log Likelihood               -1456.024\n",
      "Date:                Sat, 04 Nov 2023   AIC                           2918.048\n",
      "Time:                        00:32:56   BIC                           2930.038\n",
      "Sample:                    01-01-1984   HQIC                          2922.795\n",
      "                         - 06-01-2017                                         \n",
      "Covariance Type:                  opg                                         \n",
      "==============================================================================\n",
      "                 coef    std err          z      P>|z|      [0.025      0.975]\n",
      "------------------------------------------------------------------------------\n",
      "const          9.7534      3.158      3.089      0.002       3.564      15.943\n",
      "ar.L1          0.7614      0.024     32.191      0.000       0.715       0.808\n",
      "sigma2        81.7636      3.722     21.966      0.000      74.468      89.059\n",
      "===================================================================================\n",
      "Ljung-Box (L1) (Q):                  19.36   Jarque-Bera (JB):               660.73\n",
      "Prob(Q):                              0.00   Prob(JB):                         0.00\n",
      "Heteroskedasticity (H):              22.39   Skew:                             1.01\n",
      "Prob(H) (two-sided):                  0.00   Kurtosis:                         8.95\n",
      "===================================================================================\n",
      "\n",
      "Warnings:\n",
      "[1] Covariance matrix calculated using the outer product of gradients (complex-step).\n"
     ]
    },
    {
     "name": "stderr",
     "output_type": "stream",
     "text": [
      "C:\\Users\\urkes\\anaconda3\\lib\\site-packages\\statsmodels\\tsa\\base\\tsa_model.py:473: ValueWarning: No frequency information was provided, so inferred frequency MS will be used.\n",
      "  self._init_dates(dates, freq)\n",
      "C:\\Users\\urkes\\anaconda3\\lib\\site-packages\\statsmodels\\tsa\\base\\tsa_model.py:473: ValueWarning: No frequency information was provided, so inferred frequency MS will be used.\n",
      "  self._init_dates(dates, freq)\n"
     ]
    }
   ],
   "source": [
    "chn_wsj_ar1 = ARIMA(wsj['china'], order=(1, 0, 0)).fit()\n",
    "bubble_wsj_ar1 = ARIMA(wsj['bubble'], order=(1, 0, 0)).fit()\n",
    "clch_wsj_ar1 = ARIMA(wsj['climate change'], order=(1, 0, 0)).fit()\n",
    "print(chn_wsj_ar1.summary())\n",
    "print(bubble_wsj_ar1.summary())\n",
    "print(clch_wsj_ar1.summary())"
   ]
  },
  {
   "cell_type": "code",
   "execution_count": 62,
   "id": "b2085a37-4537-4a21-8463-dfa13f7fc771",
   "metadata": {},
   "outputs": [
    {
     "data": {
      "text/html": [
       "<div>\n",
       "<style scoped>\n",
       "    .dataframe tbody tr th:only-of-type {\n",
       "        vertical-align: middle;\n",
       "    }\n",
       "\n",
       "    .dataframe tbody tr th {\n",
       "        vertical-align: top;\n",
       "    }\n",
       "\n",
       "    .dataframe thead th {\n",
       "        text-align: right;\n",
       "    }\n",
       "</style>\n",
       "<table border=\"1\" class=\"dataframe\">\n",
       "  <thead>\n",
       "    <tr style=\"text-align: right;\">\n",
       "      <th></th>\n",
       "      <th>china</th>\n",
       "    </tr>\n",
       "    <tr>\n",
       "      <th>date</th>\n",
       "      <th></th>\n",
       "    </tr>\n",
       "  </thead>\n",
       "  <tbody>\n",
       "    <tr>\n",
       "      <th>1/1/84</th>\n",
       "      <td>304</td>\n",
       "    </tr>\n",
       "    <tr>\n",
       "      <th>2/1/84</th>\n",
       "      <td>271</td>\n",
       "    </tr>\n",
       "    <tr>\n",
       "      <th>3/1/84</th>\n",
       "      <td>180</td>\n",
       "    </tr>\n",
       "    <tr>\n",
       "      <th>4/1/84</th>\n",
       "      <td>295</td>\n",
       "    </tr>\n",
       "    <tr>\n",
       "      <th>5/1/84</th>\n",
       "      <td>278</td>\n",
       "    </tr>\n",
       "    <tr>\n",
       "      <th>...</th>\n",
       "      <td>...</td>\n",
       "    </tr>\n",
       "    <tr>\n",
       "      <th>2/1/17</th>\n",
       "      <td>555</td>\n",
       "    </tr>\n",
       "    <tr>\n",
       "      <th>3/1/17</th>\n",
       "      <td>744</td>\n",
       "    </tr>\n",
       "    <tr>\n",
       "      <th>4/1/17</th>\n",
       "      <td>768</td>\n",
       "    </tr>\n",
       "    <tr>\n",
       "      <th>5/1/17</th>\n",
       "      <td>765</td>\n",
       "    </tr>\n",
       "    <tr>\n",
       "      <th>6/1/17</th>\n",
       "      <td>857</td>\n",
       "    </tr>\n",
       "  </tbody>\n",
       "</table>\n",
       "<p>402 rows × 1 columns</p>\n",
       "</div>"
      ],
      "text/plain": [
       "        china\n",
       "date         \n",
       "1/1/84    304\n",
       "2/1/84    271\n",
       "3/1/84    180\n",
       "4/1/84    295\n",
       "5/1/84    278\n",
       "...       ...\n",
       "2/1/17    555\n",
       "3/1/17    744\n",
       "4/1/17    768\n",
       "5/1/17    765\n",
       "6/1/17    857\n",
       "\n",
       "[402 rows x 1 columns]"
      ]
     },
     "execution_count": 62,
     "metadata": {},
     "output_type": "execute_result"
    }
   ],
   "source": [
    "wsjchina = pd.DataFrame(wsj['china'])\n",
    "wsjbubble = pd.DataFrame(wsj['bubble'])\n",
    "wsjclimate = pd.DataFrame(wsj['climate change'])\n",
    "wsjchina"
   ]
  },
  {
   "cell_type": "code",
   "execution_count": 64,
   "id": "1ab0d478-7ea8-4861-98d1-29990dc6ee85",
   "metadata": {},
   "outputs": [
    {
     "name": "stdout",
     "output_type": "stream",
     "text": [
      "Results for china:\n",
      "Optimized constant: 605.3017456359103\n",
      "Optimized ar(1) parameter: 0.8879577852652052\n",
      "Optimized sigma2: 603.9226932668329\n",
      "\n"
     ]
    }
   ],
   "source": [
    "# apply func to wsj \n",
    "def compute_autoregressive_param_for_named_dfs(dfs_dict, col_name='china'):\n",
    "    ar_params = {}\n",
    "\n",
    "    for name, df in dfs_dict.items():\n",
    "        df['lagged_1'] = df[col_name].shift(1)\n",
    "        df = df.dropna()\n",
    "\n",
    "        meanret = df[col_name].mean()\n",
    "        meanlag1r = df['lagged_1'].mean()\n",
    "        autoregressive_param = ((df[col_name] - meanret)*(df['lagged_1'] - meanlag1r)).sum() / (df['lagged_1'] - meanlag1r).pow(2).sum()\n",
    "        \n",
    "        print(f\"Results for {name}:\")\n",
    "        print(f\"Optimized constant: {meanret}\") \n",
    "        print(f\"Optimized ar(1) parameter: {autoregressive_param}\")\n",
    "        print(f\"Optimized sigma2: {meanlag1r}\")\n",
    "        print()  # For a newline\n",
    "\n",
    "        ar_params[name] = autoregressive_param\n",
    "\n",
    "    return ar_params\n",
    "\n",
    "dataframes_dict = {'china': wsjchina}\n",
    "ar_wsj = compute_autoregressive_param_for_named_dfs(dataframes_dict)\n",
    "# dataframes_dict = {'vol': vol, 'me': me, 'mom': mom, 'qmj':qmj, 'op_me': op_me}\n",
    "# ar_params = compute_autoregressive_param_for_named_dfs(dataframes_dict)"
   ]
  },
  {
   "cell_type": "code",
   "execution_count": 66,
   "id": "7b305e1e-80fa-4e41-9eeb-1a69319a1fd9",
   "metadata": {},
   "outputs": [
    {
     "name": "stdout",
     "output_type": "stream",
     "text": [
      "Results for bubble:\n",
      "Optimized constant: 26.967581047381547\n",
      "Optimized ar(1) parameter: 0.7491530835839008\n",
      "Optimized sigma2: 26.925187032418954\n",
      "\n"
     ]
    }
   ],
   "source": [
    "def compute_autoregressive_param_for_named_dfs(dfs_dict, col_name='bubble'):\n",
    "    ar_params = {}\n",
    "\n",
    "    for name, df in dfs_dict.items():\n",
    "        df['lagged_1'] = df[col_name].shift(1)\n",
    "        df = df.dropna()\n",
    "\n",
    "        meanret = df[col_name].mean()\n",
    "        meanlag1r = df['lagged_1'].mean()\n",
    "        autoregressive_param = ((df[col_name] - meanret)*(df['lagged_1'] - meanlag1r)).sum() / (df['lagged_1'] - meanlag1r).pow(2).sum()\n",
    "        \n",
    "        print(f\"Results for {name}:\")\n",
    "        print(f\"Optimized constant: {meanret}\") \n",
    "        print(f\"Optimized ar(1) parameter: {autoregressive_param}\")\n",
    "        print(f\"Optimized sigma2: {meanlag1r}\")\n",
    "        print()  # For a newline\n",
    "\n",
    "        ar_params[name] = autoregressive_param\n",
    "\n",
    "    return ar_params\n",
    "\n",
    "dataframes_dict = {'bubble': wsjbubble}\n",
    "ar_wsj = compute_autoregressive_param_for_named_dfs(dataframes_dict)"
   ]
  },
  {
   "cell_type": "code",
   "execution_count": 67,
   "id": "d94edc48-adfe-4876-809d-a8f856ec4afc",
   "metadata": {},
   "outputs": [
    {
     "name": "stdout",
     "output_type": "stream",
     "text": [
      "Results for climate change:\n",
      "Optimized constant: 9.566084788029926\n",
      "Optimized ar(1) parameter: 0.7624591931801099\n",
      "Optimized sigma2: 9.45137157107232\n",
      "\n"
     ]
    }
   ],
   "source": [
    "def compute_autoregressive_param_for_named_dfs(dfs_dict, col_name='climate change'):\n",
    "    ar_params = {}\n",
    "\n",
    "    for name, df in dfs_dict.items():\n",
    "        df['lagged_1'] = df[col_name].shift(1)\n",
    "        df = df.dropna()\n",
    "\n",
    "        meanret = df[col_name].mean()\n",
    "        meanlag1r = df['lagged_1'].mean()\n",
    "        autoregressive_param = ((df[col_name] - meanret)*(df['lagged_1'] - meanlag1r)).sum() / (df['lagged_1'] - meanlag1r).pow(2).sum()\n",
    "        \n",
    "        print(f\"Results for {name}:\")\n",
    "        print(f\"Optimized constant: {meanret}\") \n",
    "        print(f\"Optimized ar(1) parameter: {autoregressive_param}\")\n",
    "        print(f\"Optimized sigma2: {meanlag1r}\")\n",
    "        print()  # For a newline\n",
    "\n",
    "        ar_params[name] = autoregressive_param\n",
    "\n",
    "    return ar_params\n",
    "\n",
    "dataframes_dict = {'climate change': wsjclimate}\n",
    "ar_wsj = compute_autoregressive_param_for_named_dfs(dataframes_dict)"
   ]
  }
 ],
 "metadata": {
  "kernelspec": {
   "display_name": "Python 3 (ipykernel)",
   "language": "python",
   "name": "python3"
  },
  "language_info": {
   "codemirror_mode": {
    "name": "ipython",
    "version": 3
   },
   "file_extension": ".py",
   "mimetype": "text/x-python",
   "name": "python",
   "nbconvert_exporter": "python",
   "pygments_lexer": "ipython3",
   "version": "3.8.18"
  }
 },
 "nbformat": 4,
 "nbformat_minor": 5
}
